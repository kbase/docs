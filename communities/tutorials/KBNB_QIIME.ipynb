{
 "metadata": {
  "created": "2013-04-08T20:40:57.575508",
  "description": "Example of using a KBNB to run a QIIME workflow",
  "name": "KBNB: QIIME",
  "permission": "edit",
  "type": "ipynb",
  "user": "public",
  "uuid": "9b2fd8d6-3910-4be9-8127-8b5124002fc6"
 },
 "nbformat": 3,
 "nbformat_minor": 0,
 "worksheets": [
  {
   "cells": [
    {
     "cell_type": "markdown",
     "metadata": {},
     "source": "## Notebook preparation\n\nThis notebook illustrates the commands in the [Illumina Overview Tutorial](http://qiime.org/svn_documentation/tutorials/illumina_overview_tutorial.html), as well as some features that are convenient for working with the [IPython Notebook](http://ipython.org/ipython-doc/dev/interactive/htmlnotebook.html) and [QIIME](http://www.qiime.org). \n\nThis tutorial makes use of the ``12_10`` release of the [Greengenes](http://www.ncbi.nlm.nih.gov/pubmed/22134646) reference OTUs. You can always find a link to the latest version of the reference OTUs on the [QIIME resources page](http://qiime.org/home_static/dataFiles.html)."
    },
    {
     "cell_type": "markdown",
     "metadata": {},
     "source": "## Getting started\n\nWe'll begin by downloading data and initializing some variables to configure our IPython computing environment."
    },
    {
     "cell_type": "code",
     "collapsed": false,
     "input": "# need to reset this if running notebook multiple times\nbase_dir = 'qiime_test'\n!rm -rf $base_dir\n!mkdir $base_dir",
     "language": "python",
     "metadata": {},
     "outputs": [],
     "prompt_number": 1
    },
    {
     "cell_type": "code",
     "collapsed": false,
     "input": "!wget https://s3.amazonaws.com/qiime-tutorial/moving_pictures_tutorial.tgz\n!wget ftp://greengenes.microbio.me/greengenes_release/gg_12_10/gg_12_10_otus.tar.gz\n!tar -xzf moving_pictures_tutorial.tgz -C $base_dir\n!tar -xzf gg_12_10_otus.tar.gz -C $base_dir\n!rm moving_pictures_tutorial.tgz gg_12_10_otus.tar.gz\n!wget -O $base_dir/core_set_aligned.fasta.imputed http://greengenes.lbl.gov/Download/Sequence_Data/Fasta_data_files/core_set_aligned.fasta.imputed\n!wget -O $base_dir/lanemask_in_1s_and_0s http://greengenes.lbl.gov/Download/Sequence_Data/lanemask_in_1s_and_0s",
     "language": "python",
     "metadata": {},
     "outputs": [
      {
       "output_type": "stream",
       "stream": "stdout",
       "text": "--2013-04-08 19:27:45--  https://s3.amazonaws.com/qiime-tutorial/moving_pictures_tutorial.tgz\r\nResolving s3.amazonaws.com... 72.21.214.199\r\nConnecting to s3.amazonaws.com|72.21.214.199|:443... "
      },
      {
       "output_type": "stream",
       "stream": "stdout",
       "text": "connected.\r\nHTTP request sent, awaiting response... "
      },
      {
       "output_type": "stream",
       "stream": "stdout",
       "text": "200 OK\r\nLength: 29124406 (28M) [application/x-compressed]\r\nSaving to: `moving_pictures_tutorial.tgz'\r\n\r\n\r 0% [                                       ] 0           --.-K/s              "
      },
      {
       "output_type": "stream",
       "stream": "stdout",
       "text": "\r 1% [                                       ] 411,891     1.90M/s              "
      },
      {
       "output_type": "stream",
       "stream": "stdout",
       "text": "\r 3% [>                                      ] 987,468     2.27M/s              "
      },
      {
       "output_type": "stream",
       "stream": "stdout",
       "text": "\r 5% [=>                                     ] 1,557,120   2.39M/s              "
      },
      {
       "output_type": "stream",
       "stream": "stdout",
       "text": "\r 7% [=>                                     ] 2,134,051   2.46M/s              "
      },
      {
       "output_type": "stream",
       "stream": "stdout",
       "text": "\r 9% [==>                                    ] 2,710,982   2.50M/s              "
      },
      {
       "output_type": "stream",
       "stream": "stdout",
       "text": "\r11% [===>                                   ] 3,287,913   2.52M/s              "
      },
      {
       "output_type": "stream",
       "stream": "stdout",
       "text": "\r13% [====>                                  ] 3,864,844   2.54M/s              "
      },
      {
       "output_type": "stream",
       "stream": "stdout",
       "text": "\r15% [====>                                  ] 4,439,885   2.55M/s              "
      },
      {
       "output_type": "stream",
       "stream": "stdout",
       "text": "\r17% [=====>                                 ] 5,017,131   2.57M/s              "
      },
      {
       "output_type": "stream",
       "stream": "stdout",
       "text": "\r19% [======>                                ] 5,586,468   2.57M/s              "
      },
      {
       "output_type": "stream",
       "stream": "stdout",
       "text": "\r21% [=======>                               ] 6,163,399   2.58M/s              "
      },
      {
       "output_type": "stream",
       "stream": "stdout",
       "text": "\r23% [========>                              ] 6,738,124   2.58M/s              "
      },
      {
       "output_type": "stream",
       "stream": "stdout",
       "text": "\r25% [========>                              ] 7,317,261   2.59M/s              "
      },
      {
       "output_type": "stream",
       "stream": "stdout",
       "text": "\r27% [=========>                             ] 7,894,192   2.59M/s              "
      },
      {
       "output_type": "stream",
       "stream": "stdout",
       "text": "\r29% [==========>                            ] 8,471,123   2.60M/s  eta 8s      "
      },
      {
       "output_type": "stream",
       "stream": "stdout",
       "text": "\r31% [===========>                           ] 9,050,008   2.60M/s  eta 8s      "
      },
      {
       "output_type": "stream",
       "stream": "stdout",
       "text": "\r33% [===========>                           ] 9,630,374   2.65M/s  eta 8s      "
      },
      {
       "output_type": "stream",
       "stream": "stdout",
       "text": "\r35% [============>                          ] 10,204,490  2.65M/s  eta 8s      "
      },
      {
       "output_type": "stream",
       "stream": "stdout",
       "text": "\r37% [=============>                         ] 10,776,957  2.65M/s  eta 8s      "
      },
      {
       "output_type": "stream",
       "stream": "stdout",
       "text": "\r38% [==============>                        ] 11,353,888  2.65M/s  eta 6s      "
      },
      {
       "output_type": "stream",
       "stream": "stdout",
       "text": "\r40% [==============>                        ] 11,777,960  2.46M/s  eta 6s      "
      },
      {
       "output_type": "stream",
       "stream": "stdout",
       "text": "\r43% [===============>                       ] 12,624,214  2.53M/s  eta 6s      "
      },
      {
       "output_type": "stream",
       "stream": "stdout",
       "text": "\r45% [================>                      ] 13,201,145  2.54M/s  eta 6s      "
      },
      {
       "output_type": "stream",
       "stream": "stdout",
       "text": "\r47% [=================>                     ] 13,778,076  2.54M/s  eta 6s      "
      },
      {
       "output_type": "stream",
       "stream": "stdout",
       "text": "\r49% [==================>                    ] 14,355,007  2.54M/s  eta 6s      "
      },
      {
       "output_type": "stream",
       "stream": "stdout",
       "text": "\r51% [==================>                    ] 14,930,048  2.54M/s  eta 6s      "
      },
      {
       "output_type": "stream",
       "stream": "stdout",
       "text": "\r53% [===================>                   ] 15,506,979  2.54M/s  eta 6s      "
      },
      {
       "output_type": "stream",
       "stream": "stdout",
       "text": "\r55% [====================>                  ] 16,079,015  2.53M/s  eta 6s      "
      },
      {
       "output_type": "stream",
       "stream": "stdout",
       "text": "\r57% [=====================>                 ] 16,660,841  2.54M/s  eta 5s      "
      },
      {
       "output_type": "stream",
       "stream": "stdout",
       "text": "\r59% [======================>                ] 17,229,327  2.54M/s  eta 5s      "
      },
      {
       "output_type": "stream",
       "stream": "stdout",
       "text": "\r61% [======================>                ] 17,807,424  2.54M/s  eta 5s      "
      },
      {
       "output_type": "stream",
       "stream": "stdout",
       "text": "\r63% [=======================>               ] 18,384,355  2.54M/s  eta 5s      "
      },
      {
       "output_type": "stream",
       "stream": "stdout",
       "text": "\r65% [========================>              ] 18,961,286  2.54M/s  eta 5s      "
      },
      {
       "output_type": "stream",
       "stream": "stdout",
       "text": "\r67% [=========================>             ] 19,536,831  2.54M/s  eta 4s      "
      },
      {
       "output_type": "stream",
       "stream": "stdout",
       "text": "\r69% [=========================>             ] 20,113,258  2.54M/s  eta 4s      "
      },
      {
       "output_type": "stream",
       "stream": "stdout",
       "text": "\r71% [==========================>            ] 20,690,189  2.54M/s  eta 4s      "
      },
      {
       "output_type": "stream",
       "stream": "stdout",
       "text": "\r73% [===========================>           ] 21,263,475  2.73M/s  eta 4s      "
      },
      {
       "output_type": "stream",
       "stream": "stdout",
       "text": "\r75% [============================>          ] 21,844,051  2.65M/s  eta 4s      "
      },
      {
       "output_type": "stream",
       "stream": "stdout",
       "text": "\r76% [=============================>         ] 22,413,703  2.65M/s  eta 2s      "
      },
      {
       "output_type": "stream",
       "stream": "stdout",
       "text": "\r78% [=============================>         ] 22,990,634  2.65M/s  eta 2s      "
      },
      {
       "output_type": "stream",
       "stream": "stdout",
       "text": "\r80% [==============================>        ] 23,567,565  2.65M/s  eta 2s      "
      },
      {
       "output_type": "stream",
       "stream": "stdout",
       "text": "\r82% [===============================>       ] 24,142,606  2.65M/s  eta 2s      "
      },
      {
       "output_type": "stream",
       "stream": "stdout",
       "text": "\r84% [================================>      ] 24,722,562  2.65M/s  eta 2s      "
      },
      {
       "output_type": "stream",
       "stream": "stdout",
       "text": "\r86% [================================>      ] 25,300,543  2.65M/s  eta 1s      "
      },
      {
       "output_type": "stream",
       "stream": "stdout",
       "text": "\r88% [=================================>     ] 25,873,399  2.65M/s  eta 1s      "
      },
      {
       "output_type": "stream",
       "stream": "stdout",
       "text": "\r90% [==================================>    ] 26,447,746  2.65M/s  eta 1s      "
      },
      {
       "output_type": "stream",
       "stream": "stdout",
       "text": "\r92% [===================================>   ] 27,027,261  2.65M/s  eta 1s      "
      },
      {
       "output_type": "stream",
       "stream": "stdout",
       "text": "\r94% [===================================>   ] 27,604,192  2.65M/s  eta 1s      "
      },
      {
       "output_type": "stream",
       "stream": "stdout",
       "text": "\r96% [====================================>  ] 28,181,123  2.65M/s  eta 0s      "
      },
      {
       "output_type": "stream",
       "stream": "stdout",
       "text": "\r98% [=====================================> ] 28,759,630  2.65M/s  eta 0s      "
      },
      {
       "output_type": "stream",
       "stream": "stdout",
       "text": "\r100%[======================================>] 29,124,406  2.66M/s   in 11s     \r\n\r\n2013-04-08 19:27:56 (2.60 MB/s) - `moving_pictures_tutorial.tgz' saved [29124406/29124406]\r\n\r\n"
      },
      {
       "output_type": "stream",
       "stream": "stdout",
       "text": "--2013-04-08 19:27:56--  ftp://greengenes.microbio.me/greengenes_release/gg_12_10/gg_12_10_otus.tar.gz\r\n           => `gg_12_10_otus.tar.gz'\r\nResolving greengenes.microbio.me... "
      },
      {
       "output_type": "stream",
       "stream": "stdout",
       "text": "128.138.93.17\r\nConnecting to greengenes.microbio.me|128.138.93.17|:21... connected.\r\nLogging in as anonymous ... "
      },
      {
       "output_type": "stream",
       "stream": "stdout",
       "text": "Logged in!\r\n==> SYST ... "
      },
      {
       "output_type": "stream",
       "stream": "stdout",
       "text": "done.    ==> PWD ... done.\r\n==> TYPE I ... "
      },
      {
       "output_type": "stream",
       "stream": "stdout",
       "text": "done.  ==> CWD (1) /greengenes_release/gg_12_10 ... done.\r\n==> SIZE gg_12_10_otus.tar.gz ... "
      },
      {
       "output_type": "stream",
       "stream": "stdout",
       "text": "135667617\r\n==> PASV ... "
      },
      {
       "output_type": "stream",
       "stream": "stdout",
       "text": "done.    ==> RETR gg_12_10_otus.tar.gz ... done.\r\nLength: 135667617 (129M) (unauthoritative)\r\n\r\n\r 0% [                                       ] 0           --.-K/s              "
      },
      {
       "output_type": "stream",
       "stream": "stdout",
       "text": "\r 0% [                                       ] 115,840      542K/s              "
      },
      {
       "output_type": "stream",
       "stream": "stdout",
       "text": "\r 0% [                                       ] 454,672     1.04M/s              "
      },
      {
       "output_type": "stream",
       "stream": "stdout",
       "text": "\r 0% [                                       ] 1,233,696   1.87M/s              "
      },
      {
       "output_type": "stream",
       "stream": "stdout",
       "text": "\r 1% [                                       ] 2,667,216   3.03M/s              "
      },
      {
       "output_type": "stream",
       "stream": "stdout",
       "text": "\r 3% [>                                      ] 5,288,552   4.81M/s              "
      },
      {
       "output_type": "stream",
       "stream": "stdout",
       "text": "\r 7% [=>                                     ] 10,030,296  7.60M/s              "
      },
      {
       "output_type": "stream",
       "stream": "stdout",
       "text": "\r13% [====>                                  ] 18,892,056  12.3M/s              "
      },
      {
       "output_type": "stream",
       "stream": "stdout",
       "text": "\r25% [========>                              ] 33,940,128  19.4M/s              "
      },
      {
       "output_type": "stream",
       "stream": "stdout",
       "text": "\r40% [==============>                        ] 54,657,560  27.9M/s              "
      },
      {
       "output_type": "stream",
       "stream": "stdout",
       "text": "\r55% [====================>                  ] 75,514,424  34.8M/s              "
      },
      {
       "output_type": "stream",
       "stream": "stdout",
       "text": "\r70% [==========================>            ] 96,316,056  40.5M/s              "
      },
      {
       "output_type": "stream",
       "stream": "stdout",
       "text": "\r86% [================================>      ] 117,143,840 45.2M/s              "
      },
      {
       "output_type": "stream",
       "stream": "stdout",
       "text": "\r100%[======================================>] 135,667,617 48.9M/s   in 2.6s    \r\n\r\n2013-04-08 19:28:00 (48.9 MB/s) - `gg_12_10_otus.tar.gz' saved [135667617]\r\n\r\n"
      },
      {
       "output_type": "stream",
       "stream": "stdout",
       "text": "--2013-04-08 19:28:08--  http://greengenes.lbl.gov/Download/Sequence_Data/Fasta_data_files/core_set_aligned.fasta.imputed\r\nResolving greengenes.lbl.gov... "
      },
      {
       "output_type": "stream",
       "stream": "stdout",
       "text": "128.32.248.7\r\nConnecting to greengenes.lbl.gov|128.32.248.7|:80... "
      },
      {
       "output_type": "stream",
       "stream": "stdout",
       "text": "connected.\r\nHTTP request sent, awaiting response... "
      },
      {
       "output_type": "stream",
       "stream": "stdout",
       "text": "200 OK\r\nLength: 37975992 (36M) [text/plain]\r\nSaving to: `qiime_test/core_set_aligned.fasta.imputed'\r\n\r\n\r 0% [                                       ] 0           --.-K/s              "
      },
      {
       "output_type": "stream",
       "stream": "stdout",
       "text": "\r 0% [                                       ] 22,977       109K/s              "
      },
      {
       "output_type": "stream",
       "stream": "stdout",
       "text": "\r 0% [                                       ] 65,385       156K/s              "
      },
      {
       "output_type": "stream",
       "stream": "stdout",
       "text": "\r 0% [                                       ] 122,809      195K/s              "
      },
      {
       "output_type": "stream",
       "stream": "stdout",
       "text": "\r 0% [                                       ] 195,345      233K/s              "
      },
      {
       "output_type": "stream",
       "stream": "stdout",
       "text": "\r 0% [                                       ] 297,945      284K/s              "
      },
      {
       "output_type": "stream",
       "stream": "stdout",
       "text": "\r 1% [                                       ] 442,953      351K/s              "
      },
      {
       "output_type": "stream",
       "stream": "stdout",
       "text": "\r 1% [                                       ] 574,249      390K/s              "
      },
      {
       "output_type": "stream",
       "stream": "stdout",
       "text": "\r 1% [                                       ] 661,833      394K/s              "
      },
      {
       "output_type": "stream",
       "stream": "stdout",
       "text": "\r 2% [                                       ] 769,905      407K/s              "
      },
      {
       "output_type": "stream",
       "stream": "stdout",
       "text": "\r 2% [                                       ] 891,657      425K/s              "
      },
      {
       "output_type": "stream",
       "stream": "stdout",
       "text": "\r 2% [>                                      ] 1,021,617    442K/s              "
      },
      {
       "output_type": "stream",
       "stream": "stdout",
       "text": "\r 3% [>                                      ] 1,170,729    465K/s              "
      },
      {
       "output_type": "stream",
       "stream": "stdout",
       "text": "\r 3% [>                                      ] 1,293,849    474K/s              "
      },
      {
       "output_type": "stream",
       "stream": "stdout",
       "text": "\r 3% [>                                      ] 1,408,729    479K/s              "
      },
      {
       "output_type": "stream",
       "stream": "stdout",
       "text": "\r 4% [>                                      ] 1,526,409    484K/s  eta 73s     "
      },
      {
       "output_type": "stream",
       "stream": "stdout",
       "text": "\r 4% [>                                      ] 1,685,065    501K/s  eta 73s     "
      },
      {
       "output_type": "stream",
       "stream": "stdout",
       "text": "\r 4% [>                                      ] 1,843,785    516K/s  eta 73s     "
      },
      {
       "output_type": "stream",
       "stream": "stdout",
       "text": "\r 5% [=>                                     ] 2,020,257    534K/s  eta 73s     "
      },
      {
       "output_type": "stream",
       "stream": "stdout",
       "text": "\r 5% [=>                                     ] 2,209,041    553K/s  eta 73s     \r 5% [=>                                     ] 2,225,425    392K/s  eta 89s     "
      },
      {
       "output_type": "stream",
       "stream": "stdout",
       "text": "\r 6% [=>                                     ] 2,536,249    443K/s  eta 89s     "
      },
      {
       "output_type": "stream",
       "stream": "stdout",
       "text": "\r 6% [=>                                     ] 2,615,337    450K/s  eta 89s     "
      },
      {
       "output_type": "stream",
       "stream": "stdout",
       "text": "\r 7% [=>                                     ] 2,726,145    459K/s  eta 89s     "
      },
      {
       "output_type": "stream",
       "stream": "stdout",
       "text": "\r 7% [=>                                     ] 2,824,609    464K/s  eta 89s     "
      },
      {
       "output_type": "stream",
       "stream": "stdout",
       "text": "\r 7% [==>                                    ] 2,921,769    465K/s  eta 79s     "
      },
      {
       "output_type": "stream",
       "stream": "stdout",
       "text": "\r 7% [==>                                    ] 3,028,473    459K/s  eta 79s     "
      },
      {
       "output_type": "stream",
       "stream": "stdout",
       "text": "\r 8% [==>                                    ] 3,146,089    457K/s  eta 79s     "
      },
      {
       "output_type": "stream",
       "stream": "stdout",
       "text": "\r 8% [==>                                    ] 3,274,681    459K/s  eta 79s     "
      },
      {
       "output_type": "stream",
       "stream": "stdout",
       "text": "\r 9% [==>                                    ] 3,423,825    470K/s  eta 79s     "
      },
      {
       "output_type": "stream",
       "stream": "stdout",
       "text": "\r 9% [==>                                    ] 3,574,305    474K/s  eta 73s     "
      },
      {
       "output_type": "stream",
       "stream": "stdout",
       "text": "\r 9% [==>                                    ] 3,746,673    485K/s  eta 73s     "
      },
      {
       "output_type": "stream",
       "stream": "stdout",
       "text": "\r10% [===>                                   ] 3,976,497    499K/s  eta 73s     "
      },
      {
       "output_type": "stream",
       "stream": "stdout",
       "text": "\r10% [===>                                   ] 4,170,753    507K/s  eta 73s     "
      },
      {
       "output_type": "stream",
       "stream": "stdout",
       "text": "\r11% [===>                                   ] 4,364,977    522K/s  eta 73s     "
      },
      {
       "output_type": "stream",
       "stream": "stdout",
       "text": "\r11% [===>                                   ] 4,500,441    525K/s  eta 64s     "
      },
      {
       "output_type": "stream",
       "stream": "stdout",
       "text": "\r12% [===>                                   ] 4,611,249    521K/s  eta 64s     "
      },
      {
       "output_type": "stream",
       "stream": "stdout",
       "text": "\r12% [===>                                   ] 4,719,289    509K/s  eta 64s     "
      },
      {
       "output_type": "stream",
       "stream": "stdout",
       "text": "\r12% [===>                                   ] 4,839,705    502K/s  eta 64s     "
      },
      {
       "output_type": "stream",
       "stream": "stdout",
       "text": "\r13% [====>                                  ] 5,003,865    494K/s  eta 64s     "
      },
      {
       "output_type": "stream",
       "stream": "stdout",
       "text": "\r13% [====>                                  ] 5,178,937    703K/s  eta 61s     "
      },
      {
       "output_type": "stream",
       "stream": "stdout",
       "text": "\r13% [====>                                  ] 5,267,857    650K/s  eta 61s     "
      },
      {
       "output_type": "stream",
       "stream": "stdout",
       "text": "\r14% [====>                                  ] 5,415,601    666K/s  eta 61s     "
      },
      {
       "output_type": "stream",
       "stream": "stdout",
       "text": "\r14% [====>                                  ] 5,586,633    681K/s  eta 61s     "
      },
      {
       "output_type": "stream",
       "stream": "stdout",
       "text": "\r15% [====>                                  ] 5,782,225    704K/s  eta 61s     "
      },
      {
       "output_type": "stream",
       "stream": "stdout",
       "text": "\r15% [=====>                                 ] 5,975,113    727K/s  eta 57s     "
      },
      {
       "output_type": "stream",
       "stream": "stdout",
       "text": "\r16% [=====>                                 ] 6,140,673    740K/s  eta 57s     "
      },
      {
       "output_type": "stream",
       "stream": "stdout",
       "text": "\r16% [=====>                                 ] 6,269,265    743K/s  eta 57s     "
      },
      {
       "output_type": "stream",
       "stream": "stdout",
       "text": "\r16% [=====>                                 ] 6,370,497    737K/s  eta 57s     "
      },
      {
       "output_type": "stream",
       "stream": "stdout",
       "text": "\r17% [=====>                                 ] 6,486,777    729K/s  eta 57s     "
      },
      {
       "output_type": "stream",
       "stream": "stdout",
       "text": "\r17% [=====>                                 ] 6,650,905    732K/s  eta 55s     "
      },
      {
       "output_type": "stream",
       "stream": "stdout",
       "text": "\r18% [======>                                ] 6,849,265    738K/s  eta 55s     "
      },
      {
       "output_type": "stream",
       "stream": "stdout",
       "text": "\r18% [======>                                ] 7,064,073    735K/s  eta 55s     "
      },
      {
       "output_type": "stream",
       "stream": "stdout",
       "text": "\r19% [======>                                ] 7,277,481    739K/s  eta 55s     "
      },
      {
       "output_type": "stream",
       "stream": "stdout",
       "text": "\r19% [======>                                ] 7,418,353    726K/s  eta 55s     "
      },
      {
       "output_type": "stream",
       "stream": "stdout",
       "text": "\r19% [======>                                ] 7,567,497    730K/s  eta 51s     "
      },
      {
       "output_type": "stream",
       "stream": "stdout",
       "text": "\r20% [======>                                ] 7,731,625    743K/s  eta 51s     "
      },
      {
       "output_type": "stream",
       "stream": "stdout",
       "text": "\r20% [=======>                               ] 7,861,617    748K/s  eta 51s     "
      },
      {
       "output_type": "stream",
       "stream": "stdout",
       "text": "\r21% [=======>                               ] 8,014,801    756K/s  eta 51s     "
      },
      {
       "output_type": "stream",
       "stream": "stdout",
       "text": "\r21% [=======>                               ] 8,144,793    748K/s  eta 51s     "
      },
      {
       "output_type": "stream",
       "stream": "stdout",
       "text": "\r21% [=======>                               ] 8,311,689    753K/s  eta 49s     "
      },
      {
       "output_type": "stream",
       "stream": "stdout",
       "text": "\r22% [=======>                               ] 8,438,881    755K/s  eta 49s     "
      },
      {
       "output_type": "stream",
       "stream": "stdout",
       "text": "\r22% [=======>                               ] 8,566,137    750K/s  eta 49s     "
      },
      {
       "output_type": "stream",
       "stream": "stdout",
       "text": "\r22% [=======>                               ] 8,686,521    738K/s  eta 49s     "
      },
      {
       "output_type": "stream",
       "stream": "stdout",
       "text": "\r23% [========>                              ] 8,847,913    730K/s  eta 49s     "
      },
      {
       "output_type": "stream",
       "stream": "stdout",
       "text": "\r23% [========>                              ] 8,987,481    717K/s  eta 48s     "
      },
      {
       "output_type": "stream",
       "stream": "stdout",
       "text": "\r24% [========>                              ] 9,144,769    716K/s  eta 48s     "
      },
      {
       "output_type": "stream",
       "stream": "stdout",
       "text": "\r24% [========>                              ] 9,273,393    716K/s  eta 48s     "
      },
      {
       "output_type": "stream",
       "stream": "stdout",
       "text": "\r24% [========>                              ] 9,410,193    724K/s  eta 48s     "
      },
      {
       "output_type": "stream",
       "stream": "stdout",
       "text": "\r25% [========>                              ] 9,545,625    729K/s  eta 48s     "
      },
      {
       "output_type": "stream",
       "stream": "stdout",
       "text": "\r25% [========>                              ] 9,655,033    716K/s  eta 46s     "
      },
      {
       "output_type": "stream",
       "stream": "stdout",
       "text": "\r25% [=========>                             ] 9,768,577    695K/s  eta 46s     "
      },
      {
       "output_type": "stream",
       "stream": "stdout",
       "text": "\r26% [=========>                             ] 9,876,649    670K/s  eta 46s     "
      },
      {
       "output_type": "stream",
       "stream": "stdout",
       "text": "\r26% [=========>                             ] 10,003,873   650K/s  eta 46s     "
      },
      {
       "output_type": "stream",
       "stream": "stdout",
       "text": "\r26% [=========>                             ] 10,129,761   646K/s  eta 46s     "
      },
      {
       "output_type": "stream",
       "stream": "stdout",
       "text": "\r27% [=========>                             ] 10,300,761   651K/s  eta 45s     "
      },
      {
       "output_type": "stream",
       "stream": "stdout",
       "text": "\r27% [=========>                             ] 10,511,433   662K/s  eta 45s     "
      },
      {
       "output_type": "stream",
       "stream": "stdout",
       "text": "\r28% [=========>                             ] 10,687,905   673K/s  eta 45s     "
      },
      {
       "output_type": "stream",
       "stream": "stdout",
       "text": "\r28% [==========>                            ] 10,878,057   682K/s  eta 45s     "
      },
      {
       "output_type": "stream",
       "stream": "stdout",
       "text": "\r29% [==========>                            ] 11,027,169   687K/s  eta 45s     "
      },
      {
       "output_type": "stream",
       "stream": "stdout",
       "text": "\r29% [==========>                            ] 11,183,089   684K/s  eta 43s     "
      },
      {
       "output_type": "stream",
       "stream": "stdout",
       "text": "\r29% [==========>                            ] 11,329,497   689K/s  eta 43s     "
      },
      {
       "output_type": "stream",
       "stream": "stdout",
       "text": "\r30% [==========>                            ] 11,444,409   686K/s  eta 43s     "
      },
      {
       "output_type": "stream",
       "stream": "stdout",
       "text": "\r30% [==========>                            ] 11,622,217   699K/s  eta 43s     "
      },
      {
       "output_type": "stream",
       "stream": "stdout",
       "text": "\r31% [===========>                           ] 11,809,665   706K/s  eta 43s     "
      },
      {
       "output_type": "stream",
       "stream": "stdout",
       "text": "\r31% [===========>                           ] 11,999,817   717K/s  eta 41s     "
      },
      {
       "output_type": "stream",
       "stream": "stdout",
       "text": "\r31% [===========>                           ] 12,147,529   715K/s  eta 41s     "
      },
      {
       "output_type": "stream",
       "stream": "stdout",
       "text": "\r32% [===========>                           ] 12,254,265   710K/s  eta 41s     "
      },
      {
       "output_type": "stream",
       "stream": "stdout",
       "text": "\r32% [===========>                           ] 12,388,297   709K/s  eta 41s     "
      },
      {
       "output_type": "stream",
       "stream": "stdout",
       "text": "\r32% [===========>                           ] 12,496,401   703K/s  eta 41s     "
      },
      {
       "output_type": "stream",
       "stream": "stdout",
       "text": "\r33% [===========>                           ] 12,649,585   713K/s  eta 40s     "
      },
      {
       "output_type": "stream",
       "stream": "stdout",
       "text": "\r33% [============>                          ] 12,771,369   715K/s  eta 40s     "
      },
      {
       "output_type": "stream",
       "stream": "stdout",
       "text": "\r34% [============>                          ] 12,915,009   723K/s  eta 40s     "
      },
      {
       "output_type": "stream",
       "stream": "stdout",
       "text": "\r34% [============>                          ] 13,034,025   721K/s  eta 40s     "
      },
      {
       "output_type": "stream",
       "stream": "stdout",
       "text": "\r34% [============>                          ] 13,174,929   725K/s  eta 40s     "
      },
      {
       "output_type": "stream",
       "stream": "stdout",
       "text": "\r34% [============>                          ] 13,266,585   706K/s  eta 39s     "
      },
      {
       "output_type": "stream",
       "stream": "stdout",
       "text": "\r35% [============>                          ] 13,373,289   681K/s  eta 39s     "
      },
      {
       "output_type": "stream",
       "stream": "stdout",
       "text": "\r35% [============>                          ] 13,515,561   673K/s  eta 39s     "
      },
      {
       "output_type": "stream",
       "stream": "stdout",
       "text": "\r35% [============>                          ] 13,618,129   652K/s  eta 39s     "
      },
      {
       "output_type": "stream",
       "stream": "stdout",
       "text": "\r36% [=============>                         ] 13,707,081   638K/s  eta 39s     "
      },
      {
       "output_type": "stream",
       "stream": "stdout",
       "text": "\r36% [=============>                         ] 13,808,313   625K/s  eta 38s     "
      },
      {
       "output_type": "stream",
       "stream": "stdout",
       "text": "\r36% [=============>                         ] 13,942,377   622K/s  eta 38s     "
      },
      {
       "output_type": "stream",
       "stream": "stdout",
       "text": "\r37% [=============>                         ] 14,076,409   626K/s  eta 38s     "
      },
      {
       "output_type": "stream",
       "stream": "stdout",
       "text": "\r37% [=============>                         ] 14,181,777   609K/s  eta 38s     "
      },
      {
       "output_type": "stream",
       "stream": "stdout",
       "text": "\r37% [=============>                         ] 14,302,161   593K/s  eta 38s     "
      },
      {
       "output_type": "stream",
       "stream": "stdout",
       "text": "\r38% [=============>                         ] 14,459,481   585K/s  eta 37s     "
      },
      {
       "output_type": "stream",
       "stream": "stdout",
       "text": "\r38% [=============>                         ] 14,585,305   580K/s  eta 37s     "
      },
      {
       "output_type": "stream",
       "stream": "stdout",
       "text": "\r38% [==============>                        ] 14,749,465   594K/s  eta 37s     "
      },
      {
       "output_type": "stream",
       "stream": "stdout",
       "text": "\r39% [==============>                        ] 14,956,033   611K/s  eta 37s     "
      },
      {
       "output_type": "stream",
       "stream": "stdout",
       "text": "\r39% [==============>                        ] 15,083,257   616K/s  eta 37s     "
      },
      {
       "output_type": "stream",
       "stream": "stdout",
       "text": "\r40% [==============>                        ] 15,281,649   627K/s  eta 36s     "
      },
      {
       "output_type": "stream",
       "stream": "stdout",
       "text": "\r40% [==============>                        ] 15,437,601   635K/s  eta 36s     "
      },
      {
       "output_type": "stream",
       "stream": "stdout",
       "text": "\r41% [===============>                       ] 15,648,273   651K/s  eta 36s     "
      },
      {
       "output_type": "stream",
       "stream": "stdout",
       "text": "\r41% [===============>                       ] 15,795,985   658K/s  eta 36s     "
      },
      {
       "output_type": "stream",
       "stream": "stdout",
       "text": "\r42% [===============>                       ] 16,002,585   674K/s  eta 36s     "
      },
      {
       "output_type": "stream",
       "stream": "stdout",
       "text": "\r42% [===============>                       ] 16,215,961   703K/s  eta 34s     "
      },
      {
       "output_type": "stream",
       "stream": "stdout",
       "text": "\r43% [===============>                       ] 16,345,953   708K/s  eta 34s     "
      },
      {
       "output_type": "stream",
       "stream": "stdout",
       "text": "\r43% [===============>                       ] 16,475,881   705K/s  eta 34s     "
      },
      {
       "output_type": "stream",
       "stream": "stdout",
       "text": "\r43% [================>                      ] 16,583,953   707K/s  eta 34s     "
      },
      {
       "output_type": "stream",
       "stream": "stdout",
       "text": "\r43% [================>                      ] 16,690,689   711K/s  eta 34s     "
      },
      {
       "output_type": "stream",
       "stream": "stdout",
       "text": "\r44% [================>                      ] 16,865,761   729K/s  eta 33s     "
      },
      {
       "output_type": "stream",
       "stream": "stdout",
       "text": "\r44% [================>                      ] 17,001,225   729K/s  eta 33s     "
      },
      {
       "output_type": "stream",
       "stream": "stdout",
       "text": "\r45% [================>                      ] 17,110,665   723K/s  eta 33s     "
      },
      {
       "output_type": "stream",
       "stream": "stdout",
       "text": "\r45% [================>                      ] 17,221,473   725K/s  eta 33s     "
      },
      {
       "output_type": "stream",
       "stream": "stdout",
       "text": "\r45% [================>                      ] 17,345,929   725K/s  eta 33s     "
      },
      {
       "output_type": "stream",
       "stream": "stdout",
       "text": "\r45% [================>                      ] 17,456,737   715K/s  eta 32s     "
      },
      {
       "output_type": "stream",
       "stream": "stdout",
       "text": "\r46% [=================>                     ] 17,589,465   716K/s  eta 32s     "
      },
      {
       "output_type": "stream",
       "stream": "stdout",
       "text": "\r46% [=================>                     ] 17,778,217   722K/s  eta 32s     "
      },
      {
       "output_type": "stream",
       "stream": "stdout",
       "text": "\r47% [=================>                     ] 17,934,169   710K/s  eta 32s     "
      },
      {
       "output_type": "stream",
       "stream": "stdout",
       "text": "\r47% [=================>                     ] 18,045,009   706K/s  eta 32s     "
      },
      {
       "output_type": "stream",
       "stream": "stdout",
       "text": "\r47% [=================>                     ] 18,174,937   690K/s  eta 31s     "
      },
      {
       "output_type": "stream",
       "stream": "stdout",
       "text": "\r48% [=================>                     ] 18,265,257   674K/s  eta 31s     "
      },
      {
       "output_type": "stream",
       "stream": "stdout",
       "text": "\r48% [=================>                     ] 18,400,689   656K/s  eta 31s     "
      },
      {
       "output_type": "stream",
       "stream": "stdout",
       "text": "\r48% [==================>                    ] 18,534,721   653K/s  eta 31s     "
      },
      {
       "output_type": "stream",
       "stream": "stdout",
       "text": "\r49% [==================>                    ] 18,689,337   640K/s  eta 31s     "
      },
      {
       "output_type": "stream",
       "stream": "stdout",
       "text": "\r49% [==================>                    ] 18,861,673   631K/s  eta 30s     "
      },
      {
       "output_type": "stream",
       "stream": "stdout",
       "text": "\r50% [==================>                    ] 19,014,889   637K/s  eta 30s     "
      },
      {
       "output_type": "stream",
       "stream": "stdout",
       "text": "\r50% [==================>                    ] 19,143,513   636K/s  eta 30s     "
      },
      {
       "output_type": "stream",
       "stream": "stdout",
       "text": "\r50% [==================>                    ] 19,284,385   644K/s  eta 30s     "
      },
      {
       "output_type": "stream",
       "stream": "stdout",
       "text": "\r51% [==================>                    ] 19,407,505   648K/s  eta 30s     "
      },
      {
       "output_type": "stream",
       "stream": "stdout",
       "text": "\r51% [===================>                   ] 19,503,265   629K/s  eta 29s     "
      },
      {
       "output_type": "stream",
       "stream": "stdout",
       "text": "\r51% [===================>                   ] 19,605,865   621K/s  eta 29s     "
      },
      {
       "output_type": "stream",
       "stream": "stdout",
       "text": "\r51% [===================>                   ] 19,734,457   626K/s  eta 29s     "
      },
      {
       "output_type": "stream",
       "stream": "stdout",
       "text": "\r52% [===================>                   ] 19,897,281   638K/s  eta 29s     "
      },
      {
       "output_type": "stream",
       "stream": "stdout",
       "text": "\r52% [===================>                   ] 20,055,937   646K/s  eta 29s     "
      },
      {
       "output_type": "stream",
       "stream": "stdout",
       "text": "\r53% [===================>                   ] 20,200,977   654K/s  eta 27s     "
      },
      {
       "output_type": "stream",
       "stream": "stdout",
       "text": "\r53% [===================>                   ] 20,329,537   653K/s  eta 27s     "
      },
      {
       "output_type": "stream",
       "stream": "stdout",
       "text": "\r53% [===================>                   ] 20,441,713   635K/s  eta 27s     "
      },
      {
       "output_type": "stream",
       "stream": "stdout",
       "text": "\r54% [====================>                  ] 20,593,561   634K/s  eta 27s     "
      },
      {
       "output_type": "stream",
       "stream": "stdout",
       "text": "\r54% [====================>                  ] 20,727,625   640K/s  eta 27s     "
      },
      {
       "output_type": "stream",
       "stream": "stdout",
       "text": "\r55% [====================>                  ] 20,917,809   654K/s  eta 26s     "
      },
      {
       "output_type": "stream",
       "stream": "stdout",
       "text": "\r55% [====================>                  ] 21,106,561   677K/s  eta 26s     "
      },
      {
       "output_type": "stream",
       "stream": "stdout",
       "text": "\r55% [====================>                  ] 21,202,353   668K/s  eta 26s     "
      },
      {
       "output_type": "stream",
       "stream": "stdout",
       "text": "\r56% [====================>                  ] 21,333,681   667K/s  eta 26s     "
      },
      {
       "output_type": "stream",
       "stream": "stdout",
       "text": "\r56% [=====================>                 ] 21,493,737   669K/s  eta 26s     "
      },
      {
       "output_type": "stream",
       "stream": "stdout",
       "text": "\r57% [=====================>                 ] 21,666,105   669K/s  eta 25s     "
      },
      {
       "output_type": "stream",
       "stream": "stdout",
       "text": "\r57% [=====================>                 ] 21,789,225   661K/s  eta 25s     "
      },
      {
       "output_type": "stream",
       "stream": "stdout",
       "text": "\r57% [=====================>                 ] 21,920,521   662K/s  eta 25s     "
      },
      {
       "output_type": "stream",
       "stream": "stdout",
       "text": "\r58% [=====================>                 ] 22,068,265   663K/s  eta 25s     "
      },
      {
       "output_type": "stream",
       "stream": "stdout",
       "text": "\r58% [=====================>                 ] 22,220,145   670K/s  eta 25s     "
      },
      {
       "output_type": "stream",
       "stream": "stdout",
       "text": "\r58% [======================>                ] 22,400,689   690K/s  eta 24s     "
      },
      {
       "output_type": "stream",
       "stream": "stdout",
       "text": "\r59% [======================>                ] 22,563,481   705K/s  eta 24s     "
      },
      {
       "output_type": "stream",
       "stream": "stdout",
       "text": "\r59% [======================>                ] 22,739,985   716K/s  eta 24s     "
      },
      {
       "output_type": "stream",
       "stream": "stdout",
       "text": "\r60% [======================>                ] 22,875,417   710K/s  eta 24s     "
      },
      {
       "output_type": "stream",
       "stream": "stdout",
       "text": "\r60% [======================>                ] 23,030,001   709K/s  eta 24s     "
      },
      {
       "output_type": "stream",
       "stream": "stdout",
       "text": "\r60% [======================>                ] 23,154,489   704K/s  eta 23s     "
      },
      {
       "output_type": "stream",
       "stream": "stdout",
       "text": "\r61% [======================>                ] 23,273,505   701K/s  eta 23s     "
      },
      {
       "output_type": "stream",
       "stream": "stdout",
       "text": "\r61% [=======================>               ] 23,377,473   700K/s  eta 23s     "
      },
      {
       "output_type": "stream",
       "stream": "stdout",
       "text": "\r61% [=======================>               ] 23,519,745   697K/s  eta 23s     "
      },
      {
       "output_type": "stream",
       "stream": "stdout",
       "text": "\r62% [=======================>               ] 23,678,433   703K/s  eta 23s     "
      },
      {
       "output_type": "stream",
       "stream": "stdout",
       "text": "\r62% [=======================>               ] 23,904,153   711K/s  eta 21s     "
      },
      {
       "output_type": "stream",
       "stream": "stdout",
       "text": "\r63% [=======================>               ] 24,054,569   593K/s  eta 21s     "
      },
      {
       "output_type": "stream",
       "stream": "stdout",
       "text": "\r65% [========================>              ] 24,831,625   726K/s  eta 20s     "
      },
      {
       "output_type": "stream",
       "stream": "stdout",
       "text": "\r65% [========================>              ] 24,969,793   727K/s  eta 20s     "
      },
      {
       "output_type": "stream",
       "stream": "stdout",
       "text": "\r66% [========================>              ] 25,117,569   725K/s  eta 20s     "
      },
      {
       "output_type": "stream",
       "stream": "stdout",
       "text": "\r66% [=========================>             ] 25,324,137   731K/s  eta 20s     "
      },
      {
       "output_type": "stream",
       "stream": "stdout",
       "text": "\r66% [=========================>             ] 25,440,417   730K/s  eta 20s     "
      },
      {
       "output_type": "stream",
       "stream": "stdout",
       "text": "\r67% [=========================>             ] 25,563,537   729K/s  eta 19s     "
      },
      {
       "output_type": "stream",
       "stream": "stdout",
       "text": "\r67% [=========================>             ] 25,682,521   723K/s  eta 19s     "
      },
      {
       "output_type": "stream",
       "stream": "stdout",
       "text": "\r68% [=========================>             ] 25,842,577   725K/s  eta 19s     "
      },
      {
       "output_type": "stream",
       "stream": "stdout",
       "text": "\r68% [=========================>             ] 26,019,081   724K/s  eta 19s     "
      },
      {
       "output_type": "stream",
       "stream": "stdout",
       "text": "\r69% [=========================>             ] 26,221,513   732K/s  eta 19s     "
      },
      {
       "output_type": "stream",
       "stream": "stdout",
       "text": "\r69% [==========================>            ] 26,333,689   719K/s  eta 17s     "
      },
      {
       "output_type": "stream",
       "stream": "stdout",
       "text": "\r69% [==========================>            ] 26,469,153   719K/s  eta 17s     "
      },
      {
       "output_type": "stream",
       "stream": "stdout",
       "text": "\r70% [==========================>            ] 26,641,521   723K/s  eta 17s     "
      },
      {
       "output_type": "stream",
       "stream": "stdout",
       "text": "\r70% [==========================>            ] 26,760,505   722K/s  eta 17s     "
      },
      {
       "output_type": "stream",
       "stream": "stdout",
       "text": "\r70% [==========================>            ] 26,920,561   730K/s  eta 17s     "
      },
      {
       "output_type": "stream",
       "stream": "stdout",
       "text": "\r71% [==========================>            ] 27,114,849   748K/s  eta 16s     "
      },
      {
       "output_type": "stream",
       "stream": "stdout",
       "text": "\r71% [==========================>            ] 27,252,985   747K/s  eta 16s     "
      },
      {
       "output_type": "stream",
       "stream": "stdout",
       "text": "\r72% [===========================>           ] 27,385,681   742K/s  eta 16s     "
      },
      {
       "output_type": "stream",
       "stream": "stdout",
       "text": "\r72% [===========================>           ] 27,575,833   734K/s  eta 16s     "
      },
      {
       "output_type": "stream",
       "stream": "stdout",
       "text": "\r73% [===========================>           ] 27,771,457   879K/s  eta 16s     "
      },
      {
       "output_type": "stream",
       "stream": "stdout",
       "text": "\r73% [===========================>           ] 27,943,825   741K/s  eta 15s     "
      },
      {
       "output_type": "stream",
       "stream": "stdout",
       "text": "\r73% [===========================>           ] 28,080,657   740K/s  eta 15s     "
      },
      {
       "output_type": "stream",
       "stream": "stdout",
       "text": "\r74% [===========================>           ] 28,177,785   733K/s  eta 15s     "
      },
      {
       "output_type": "stream",
       "stream": "stdout",
       "text": "\r74% [============================>          ] 28,309,113   714K/s  eta 15s     "
      },
      {
       "output_type": "stream",
       "stream": "stdout",
       "text": "\r74% [============================>          ] 28,447,281   711K/s  eta 15s     "
      },
      {
       "output_type": "stream",
       "stream": "stdout",
       "text": "\r75% [============================>          ] 28,547,145   710K/s  eta 14s     "
      },
      {
       "output_type": "stream",
       "stream": "stdout",
       "text": "\r75% [============================>          ] 28,722,249   720K/s  eta 14s     "
      },
      {
       "output_type": "stream",
       "stream": "stdout",
       "text": "\r76% [============================>          ] 28,928,785   738K/s  eta 14s     "
      },
      {
       "output_type": "stream",
       "stream": "stdout",
       "text": "\r76% [============================>          ] 29,071,089   732K/s  eta 14s     "
      },
      {
       "output_type": "stream",
       "stream": "stdout",
       "text": "\r77% [=============================>         ] 29,292,705   733K/s  eta 14s     "
      },
      {
       "output_type": "stream",
       "stream": "stdout",
       "text": "\r77% [=============================>         ] 29,426,737   734K/s  eta 13s     "
      },
      {
       "output_type": "stream",
       "stream": "stdout",
       "text": "\r77% [=============================>         ] 29,586,825   741K/s  eta 13s     "
      },
      {
       "output_type": "stream",
       "stream": "stdout",
       "text": "\r78% [=============================>         ] 29,800,201   756K/s  eta 13s     "
      },
      {
       "output_type": "stream",
       "stream": "stdout",
       "text": "\r78% [=============================>         ] 29,986,249   766K/s  eta 13s     "
      },
      {
       "output_type": "stream",
       "stream": "stdout",
       "text": "\r79% [=============================>         ] 30,128,553   764K/s  eta 13s     "
      },
      {
       "output_type": "stream",
       "stream": "stdout",
       "text": "\r79% [==============================>        ] 30,263,953   754K/s  eta 11s     "
      },
      {
       "output_type": "stream",
       "stream": "stdout",
       "text": "\r80% [==============================>        ] 30,443,193   757K/s  eta 11s     "
      },
      {
       "output_type": "stream",
       "stream": "stdout",
       "text": "\r80% [==============================>        ] 30,555,337   752K/s  eta 11s     "
      },
      {
       "output_type": "stream",
       "stream": "stdout",
       "text": "\r80% [==============================>        ] 30,674,385   740K/s  eta 11s     "
      },
      {
       "output_type": "stream",
       "stream": "stdout",
       "text": "\r81% [==============================>        ] 30,815,257   728K/s  eta 11s     "
      },
      {
       "output_type": "stream",
       "stream": "stdout",
       "text": "\r81% [==============================>        ] 30,969,873   720K/s  eta 10s     "
      },
      {
       "output_type": "stream",
       "stream": "stdout",
       "text": "\r82% [==============================>        ] 31,143,609   730K/s  eta 10s     "
      },
      {
       "output_type": "stream",
       "stream": "stdout",
       "text": "\r82% [===============================>       ] 31,329,657   747K/s  eta 10s     "
      },
      {
       "output_type": "stream",
       "stream": "stdout",
       "text": "\r83% [===============================>       ] 31,538,929   767K/s  eta 10s     "
      },
      {
       "output_type": "stream",
       "stream": "stdout",
       "text": "\r83% [===============================>       ] 31,749,601   786K/s  eta 10s     "
      },
      {
       "output_type": "stream",
       "stream": "stdout",
       "text": "\r83% [===============================>       ] 31,896,009   788K/s  eta 9s      "
      },
      {
       "output_type": "stream",
       "stream": "stdout",
       "text": "\r84% [===============================>       ] 32,056,065   795K/s  eta 9s      "
      },
      {
       "output_type": "stream",
       "stream": "stdout",
       "text": "\r84% [================================>      ] 32,205,145   785K/s  eta 9s      "
      },
      {
       "output_type": "stream",
       "stream": "stdout",
       "text": "\r85% [================================>      ] 32,336,473   773K/s  eta 9s      "
      },
      {
       "output_type": "stream",
       "stream": "stdout",
       "text": "\r85% [================================>      ] 32,456,857   758K/s  eta 9s      "
      },
      {
       "output_type": "stream",
       "stream": "stdout",
       "text": "\r85% [================================>      ] 32,575,873   751K/s  eta 8s      "
      },
      {
       "output_type": "stream",
       "stream": "stdout",
       "text": "\r86% [================================>      ] 32,748,241   751K/s  eta 8s      "
      },
      {
       "output_type": "stream",
       "stream": "stdout",
       "text": "\r86% [================================>      ] 32,889,177   740K/s  eta 8s      "
      },
      {
       "output_type": "stream",
       "stream": "stdout",
       "text": "\r86% [================================>      ] 33,010,897   720K/s  eta 8s      "
      },
      {
       "output_type": "stream",
       "stream": "stdout",
       "text": "\r87% [================================>      ] 33,088,905   702K/s  eta 8s      "
      },
      {
       "output_type": "stream",
       "stream": "stdout",
       "text": "\r87% [=================================>     ] 33,203,785   699K/s  eta 7s      "
      },
      {
       "output_type": "stream",
       "stream": "stdout",
       "text": "\r87% [=================================>     ] 33,322,801   683K/s  eta 7s      "
      },
      {
       "output_type": "stream",
       "stream": "stdout",
       "text": "\r88% [=================================>     ] 33,429,505   679K/s  eta 7s      "
      },
      {
       "output_type": "stream",
       "stream": "stdout",
       "text": "\r88% [=================================>     ] 33,578,649   688K/s  eta 7s      "
      },
      {
       "output_type": "stream",
       "stream": "stdout",
       "text": "\r88% [=================================>     ] 33,767,433   704K/s  eta 7s      "
      },
      {
       "output_type": "stream",
       "stream": "stdout",
       "text": "\r89% [=================================>     ] 33,979,441   715K/s  eta 6s      "
      },
      {
       "output_type": "stream",
       "stream": "stdout",
       "text": "\r89% [==================================>    ] 34,175,065   721K/s  eta 6s      "
      },
      {
       "output_type": "stream",
       "stream": "stdout",
       "text": "\r90% [==================================>    ] 34,313,265   709K/s  eta 6s      "
      },
      {
       "output_type": "stream",
       "stream": "stdout",
       "text": "\r90% [==================================>    ] 34,470,585   704K/s  eta 6s      "
      },
      {
       "output_type": "stream",
       "stream": "stdout",
       "text": "\r91% [==================================>    ] 34,574,521   673K/s  eta 6s      "
      },
      {
       "output_type": "stream",
       "stream": "stdout",
       "text": "\r91% [==================================>    ] 34,715,425   670K/s  eta 5s      "
      },
      {
       "output_type": "stream",
       "stream": "stdout",
       "text": "\r91% [==================================>    ] 34,876,849   673K/s  eta 5s      "
      },
      {
       "output_type": "stream",
       "stream": "stdout",
       "text": "\r92% [==================================>    ] 35,036,905   673K/s  eta 5s      "
      },
      {
       "output_type": "stream",
       "stream": "stdout",
       "text": "\r92% [===================================>   ] 35,229,793   683K/s  eta 5s      "
      },
      {
       "output_type": "stream",
       "stream": "stdout",
       "text": "\r93% [===================================>   ] 35,344,737   687K/s  eta 5s      "
      },
      {
       "output_type": "stream",
       "stream": "stdout",
       "text": "\r93% [===================================>   ] 35,469,225   688K/s  eta 4s      "
      },
      {
       "output_type": "stream",
       "stream": "stdout",
       "text": "\r93% [===================================>   ] 35,556,777   672K/s  eta 4s      "
      },
      {
       "output_type": "stream",
       "stream": "stdout",
       "text": "\r94% [===================================>   ] 35,727,777   675K/s  eta 4s      "
      },
      {
       "output_type": "stream",
       "stream": "stdout",
       "text": "\r94% [===================================>   ] 35,917,929   687K/s  eta 4s      "
      },
      {
       "output_type": "stream",
       "stream": "stdout",
       "text": "\r94% [====================================>  ] 36,035,545   695K/s  eta 4s      "
      },
      {
       "output_type": "stream",
       "stream": "stdout",
       "text": "\r95% [====================================>  ] 36,165,537   704K/s  eta 3s      "
      },
      {
       "output_type": "stream",
       "stream": "stdout",
       "text": "\r95% [====================================>  ] 36,279,049   702K/s  eta 3s      "
      },
      {
       "output_type": "stream",
       "stream": "stdout",
       "text": "\r95% [====================================>  ] 36,424,089   708K/s  eta 3s      "
      },
      {
       "output_type": "stream",
       "stream": "stdout",
       "text": "\r96% [====================================>  ] 36,580,009   713K/s  eta 3s      "
      },
      {
       "output_type": "stream",
       "stream": "stdout",
       "text": "\r96% [====================================>  ] 36,700,425   697K/s  eta 3s      "
      },
      {
       "output_type": "stream",
       "stream": "stdout",
       "text": "\r96% [====================================>  ] 36,807,097   676K/s  eta 2s      "
      },
      {
       "output_type": "stream",
       "stream": "stdout",
       "text": "\r97% [====================================>  ] 36,923,377   652K/s  eta 2s      "
      },
      {
       "output_type": "stream",
       "stream": "stdout",
       "text": "\r97% [=====================================> ] 37,073,889   656K/s  eta 2s      "
      },
      {
       "output_type": "stream",
       "stream": "stdout",
       "text": "\r97% [=====================================> ] 37,180,561   640K/s  eta 2s      "
      },
      {
       "output_type": "stream",
       "stream": "stdout",
       "text": "\r98% [=====================================> ] 37,270,881   638K/s  eta 2s      "
      },
      {
       "output_type": "stream",
       "stream": "stdout",
       "text": "\r98% [=====================================> ] 37,391,265   636K/s  eta 1s      "
      },
      {
       "output_type": "stream",
       "stream": "stdout",
       "text": "\r98% [=====================================> ] 37,526,665   633K/s  eta 1s      "
      },
      {
       "output_type": "stream",
       "stream": "stdout",
       "text": "\r99% [=====================================> ] 37,636,137   618K/s  eta 1s      "
      },
      {
       "output_type": "stream",
       "stream": "stdout",
       "text": "\r99% [=====================================> ] 37,777,041   615K/s  eta 1s      "
      },
      {
       "output_type": "stream",
       "stream": "stdout",
       "text": "\r100%[======================================>] 37,975,992   634K/s   in 56s     \r\n\r\n2013-04-08 19:29:05 (666 KB/s) - `qiime_test/core_set_aligned.fasta.imputed' saved [37975992/37975992]\r\n\r\n"
      },
      {
       "output_type": "stream",
       "stream": "stdout",
       "text": "--2013-04-08 19:29:05--  http://greengenes.lbl.gov/Download/Sequence_Data/lanemask_in_1s_and_0s\r\nResolving greengenes.lbl.gov... 128.32.248.7\r\nConnecting to greengenes.lbl.gov|128.32.248.7|:80... "
      },
      {
       "output_type": "stream",
       "stream": "stdout",
       "text": "connected.\r\nHTTP request sent, awaiting response... "
      },
      {
       "output_type": "stream",
       "stream": "stdout",
       "text": "200 OK\r\nLength: 7683 (7.5K) [text/plain]\r\nSaving to: `qiime_test/lanemask_in_1s_and_0s'\r\n\r\n\r 0% [                                       ] 0           --.-K/s              \r100%[======================================>] 7,683       --.-K/s   in 0s      \r\n\r\n2013-04-08 19:29:05 (454 MB/s) - `qiime_test/lanemask_in_1s_and_0s' saved [7683/7683]\r\n\r\n"
      }
     ],
     "prompt_number": 2
    },
    {
     "cell_type": "code",
     "collapsed": false,
     "input": "# get qiime dependcies and set env for running in KBase VM\nimport os\nfrom os import environ, chdir, mkdir\nfrom os.path import join\nnb_dir = os.getcwd()\nenviron['RDP_JAR_PATH'] = '/kb/runtime/rdp_classifier_2.2/rdp_classifier-2.2.jar'\nenviron['QIIME_CONFIG_FP'] = join(nb_dir, '.qiime_config')\n# create qiime config\nqconf = open('.qiime_config', 'w')\nqconf.write(\"%s\\t%s\\n\"%('qiime_scripts_dir', '/usr/local/bin'))\nqconf.write(\"%s\\t%s\\n\"%('temp_dir', join(nb_dir, 'tmp')))\nqconf.write(\"%s\\t%s\\n\"%('pynast_template_alignment_fp', join(nb_dir, base_dir, 'core_set_aligned.fasta.imputed')))\nqconf.write(\"%s\\t%s\\n\"%('template_alignment_lanemask_fp', join(nb_dir, base_dir, 'lanemask_in_1s_and_0s')))\nqconf.close()",
     "language": "python",
     "metadata": {},
     "outputs": [],
     "prompt_number": 3
    },
    {
     "cell_type": "code",
     "collapsed": false,
     "input": "# these are only available in the current development branch of IPython\nfrom IPython.display import FileLinks, FileLink\notu_base = join(base_dir, \"gg_12_10_otus\")\nreference_seqs = join(otu_base, \"rep_set/97_otus.fasta\")\nreference_tree = join(otu_base, \"trees/97_otus.tree\")\nreference_tax = join(otu_base, \"taxonomy/97_otu_taxonomy.txt\")",
     "language": "python",
     "metadata": {},
     "outputs": [],
     "prompt_number": 4
    },
    {
     "cell_type": "markdown",
     "metadata": {},
     "source": "Start by seeing what files are in our tutorial direcotry. We can do this using `ls` as we would on the command line, but in this case we prefix with an `!` to tell IPython that we're issuing a `bash` (i.e., command line) command, rather than a python command."
    },
    {
     "cell_type": "code",
     "collapsed": false,
     "input": "data_dir = join(base_dir, 'moving_pictures_tutorial')\n!ls $data_dir",
     "language": "python",
     "metadata": {},
     "outputs": [
      {
       "output_type": "stream",
       "stream": "stdout",
       "text": "454_map.txt\t\t filtered_mapping_l5.txt      subsampled_454_seqs.fna\r\nfiltered_mapping_l1.txt  filtered_mapping_l6.txt      subsampled_fastq\r\nfiltered_mapping_l2.txt  procrustes_metadata_map.txt  ucrC_fast_params.txt\r\nfiltered_mapping_l3.txt  procrustes_sid_map.txt\r\nfiltered_mapping_l4.txt  README.txt\r\n"
      }
     ],
     "prompt_number": 5
    },
    {
     "cell_type": "markdown",
     "metadata": {},
     "source": "QIIME additionally supports more convenient output formattting for the IPython notebook so you can directly interact with or download your data."
    },
    {
     "cell_type": "code",
     "collapsed": false,
     "input": "FileLinks(base_dir)",
     "language": "python",
     "metadata": {},
     "outputs": [
      {
       "html": "qiime_test/<br>\n&nbsp;&nbsp;<a href='files/qiime_test/lanemask_in_1s_and_0s' target='_blank'>lanemask_in_1s_and_0s</a><br>\n&nbsp;&nbsp;<a href='files/qiime_test/core_set_aligned.fasta.imputed' target='_blank'>core_set_aligned.fasta.imputed</a><br>\nqiime_test/gg_12_10_otus/<br>\n&nbsp;&nbsp;<a href='files/qiime_test/gg_12_10_otus/note' target='_blank'>note</a><br>\nqiime_test/gg_12_10_otus/otus/<br>\n&nbsp;&nbsp;<a href='files/qiime_test/gg_12_10_otus/otus/88_otu_map.txt' target='_blank'>88_otu_map.txt</a><br>\n&nbsp;&nbsp;<a href='files/qiime_test/gg_12_10_otus/otus/97_clusters.uc' target='_blank'>97_clusters.uc</a><br>\n&nbsp;&nbsp;<a href='files/qiime_test/gg_12_10_otus/otus/85_clusters.uc' target='_blank'>85_clusters.uc</a><br>\n&nbsp;&nbsp;<a href='files/qiime_test/gg_12_10_otus/otus/67_clusters.uc' target='_blank'>67_clusters.uc</a><br>\n&nbsp;&nbsp;<a href='files/qiime_test/gg_12_10_otus/otus/82_otu_map.txt' target='_blank'>82_otu_map.txt</a><br>\n&nbsp;&nbsp;<a href='files/qiime_test/gg_12_10_otus/otus/91_otu_map.txt' target='_blank'>91_otu_map.txt</a><br>\n&nbsp;&nbsp;<a href='files/qiime_test/gg_12_10_otus/otus/97_otu_map.txt' target='_blank'>97_otu_map.txt</a><br>\n&nbsp;&nbsp;<a href='files/qiime_test/gg_12_10_otus/otus/64_otu_map.txt' target='_blank'>64_otu_map.txt</a><br>\n&nbsp;&nbsp;<a href='files/qiime_test/gg_12_10_otus/otus/99_clusters.uc' target='_blank'>99_clusters.uc</a><br>\n&nbsp;&nbsp;<a href='files/qiime_test/gg_12_10_otus/otus/73_clusters.uc' target='_blank'>73_clusters.uc</a><br>\n&nbsp;&nbsp;<a href='files/qiime_test/gg_12_10_otus/otus/79_clusters.uc' target='_blank'>79_clusters.uc</a><br>\n&nbsp;&nbsp;<a href='files/qiime_test/gg_12_10_otus/otus/88_clusters.uc' target='_blank'>88_clusters.uc</a><br>\n&nbsp;&nbsp;<a href='files/qiime_test/gg_12_10_otus/otus/61_otu_map.txt' target='_blank'>61_otu_map.txt</a><br>\n&nbsp;&nbsp;<a href='files/qiime_test/gg_12_10_otus/otus/76_clusters.uc' target='_blank'>76_clusters.uc</a><br>\n&nbsp;&nbsp;<a href='files/qiime_test/gg_12_10_otus/otus/73_otu_map.txt' target='_blank'>73_otu_map.txt</a><br>\n&nbsp;&nbsp;<a href='files/qiime_test/gg_12_10_otus/otus/94_clusters.uc' target='_blank'>94_clusters.uc</a><br>\n&nbsp;&nbsp;<a href='files/qiime_test/gg_12_10_otus/otus/82_clusters.uc' target='_blank'>82_clusters.uc</a><br>\n&nbsp;&nbsp;<a href='files/qiime_test/gg_12_10_otus/otus/70_clusters.uc' target='_blank'>70_clusters.uc</a><br>\n&nbsp;&nbsp;<a href='files/qiime_test/gg_12_10_otus/otus/70_otu_map.txt' target='_blank'>70_otu_map.txt</a><br>\n&nbsp;&nbsp;<a href='files/qiime_test/gg_12_10_otus/otus/67_otu_map.txt' target='_blank'>67_otu_map.txt</a><br>\n&nbsp;&nbsp;<a href='files/qiime_test/gg_12_10_otus/otus/64_clusters.uc' target='_blank'>64_clusters.uc</a><br>\n&nbsp;&nbsp;<a href='files/qiime_test/gg_12_10_otus/otus/61_clusters.uc' target='_blank'>61_clusters.uc</a><br>\n&nbsp;&nbsp;<a href='files/qiime_test/gg_12_10_otus/otus/76_otu_map.txt' target='_blank'>76_otu_map.txt</a><br>\n&nbsp;&nbsp;<a href='files/qiime_test/gg_12_10_otus/otus/79_otu_map.txt' target='_blank'>79_otu_map.txt</a><br>\n&nbsp;&nbsp;<a href='files/qiime_test/gg_12_10_otus/otus/85_otu_map.txt' target='_blank'>85_otu_map.txt</a><br>\n&nbsp;&nbsp;<a href='files/qiime_test/gg_12_10_otus/otus/99_otu_map.txt' target='_blank'>99_otu_map.txt</a><br>\n&nbsp;&nbsp;<a href='files/qiime_test/gg_12_10_otus/otus/91_clusters.uc' target='_blank'>91_clusters.uc</a><br>\n&nbsp;&nbsp;<a href='files/qiime_test/gg_12_10_otus/otus/94_otu_map.txt' target='_blank'>94_otu_map.txt</a><br>\nqiime_test/gg_12_10_otus/rep_set/<br>\n&nbsp;&nbsp;<a href='files/qiime_test/gg_12_10_otus/rep_set/91_otus.fasta' target='_blank'>91_otus.fasta</a><br>\n&nbsp;&nbsp;<a href='files/qiime_test/gg_12_10_otus/rep_set/64_otus.fasta' target='_blank'>64_otus.fasta</a><br>\n&nbsp;&nbsp;<a href='files/qiime_test/gg_12_10_otus/rep_set/79_otus.fasta' target='_blank'>79_otus.fasta</a><br>\n&nbsp;&nbsp;<a href='files/qiime_test/gg_12_10_otus/rep_set/76_otus.fasta' target='_blank'>76_otus.fasta</a><br>\n&nbsp;&nbsp;<a href='files/qiime_test/gg_12_10_otus/rep_set/97_otus.fasta' target='_blank'>97_otus.fasta</a><br>\n&nbsp;&nbsp;<a href='files/qiime_test/gg_12_10_otus/rep_set/94_otus.fasta' target='_blank'>94_otus.fasta</a><br>\n&nbsp;&nbsp;<a href='files/qiime_test/gg_12_10_otus/rep_set/73_otus.fasta' target='_blank'>73_otus.fasta</a><br>\n&nbsp;&nbsp;<a href='files/qiime_test/gg_12_10_otus/rep_set/82_otus.fasta' target='_blank'>82_otus.fasta</a><br>\n&nbsp;&nbsp;<a href='files/qiime_test/gg_12_10_otus/rep_set/85_otus.fasta' target='_blank'>85_otus.fasta</a><br>\n&nbsp;&nbsp;<a href='files/qiime_test/gg_12_10_otus/rep_set/67_otus.fasta' target='_blank'>67_otus.fasta</a><br>\n&nbsp;&nbsp;<a href='files/qiime_test/gg_12_10_otus/rep_set/61_otus.fasta' target='_blank'>61_otus.fasta</a><br>\n&nbsp;&nbsp;<a href='files/qiime_test/gg_12_10_otus/rep_set/99_otus.fasta' target='_blank'>99_otus.fasta</a><br>\n&nbsp;&nbsp;<a href='files/qiime_test/gg_12_10_otus/rep_set/88_otus.fasta' target='_blank'>88_otus.fasta</a><br>\n&nbsp;&nbsp;<a href='files/qiime_test/gg_12_10_otus/rep_set/70_otus.fasta' target='_blank'>70_otus.fasta</a><br>\nqiime_test/gg_12_10_otus/taxonomy/<br>\n&nbsp;&nbsp;<a href='files/qiime_test/gg_12_10_otus/taxonomy/73_otu_taxonomy.txt' target='_blank'>73_otu_taxonomy.txt</a><br>\n&nbsp;&nbsp;<a href='files/qiime_test/gg_12_10_otus/taxonomy/97_otu_taxonomy.txt' target='_blank'>97_otu_taxonomy.txt</a><br>\n&nbsp;&nbsp;<a href='files/qiime_test/gg_12_10_otus/taxonomy/70_otu_taxonomy.txt' target='_blank'>70_otu_taxonomy.txt</a><br>\n&nbsp;&nbsp;<a href='files/qiime_test/gg_12_10_otus/taxonomy/85_otu_taxonomy.txt' target='_blank'>85_otu_taxonomy.txt</a><br>\n&nbsp;&nbsp;<a href='files/qiime_test/gg_12_10_otus/taxonomy/76_otu_taxonomy.txt' target='_blank'>76_otu_taxonomy.txt</a><br>\n&nbsp;&nbsp;<a href='files/qiime_test/gg_12_10_otus/taxonomy/67_otu_taxonomy.txt' target='_blank'>67_otu_taxonomy.txt</a><br>\n&nbsp;&nbsp;<a href='files/qiime_test/gg_12_10_otus/taxonomy/94_otu_taxonomy.txt' target='_blank'>94_otu_taxonomy.txt</a><br>\n&nbsp;&nbsp;<a href='files/qiime_test/gg_12_10_otus/taxonomy/64_otu_taxonomy.txt' target='_blank'>64_otu_taxonomy.txt</a><br>\n&nbsp;&nbsp;<a href='files/qiime_test/gg_12_10_otus/taxonomy/99_otu_taxonomy.txt' target='_blank'>99_otu_taxonomy.txt</a><br>\n&nbsp;&nbsp;<a href='files/qiime_test/gg_12_10_otus/taxonomy/82_otu_taxonomy.txt' target='_blank'>82_otu_taxonomy.txt</a><br>\n&nbsp;&nbsp;<a href='files/qiime_test/gg_12_10_otus/taxonomy/79_otu_taxonomy.txt' target='_blank'>79_otu_taxonomy.txt</a><br>\n&nbsp;&nbsp;<a href='files/qiime_test/gg_12_10_otus/taxonomy/61_otu_taxonomy.txt' target='_blank'>61_otu_taxonomy.txt</a><br>\n&nbsp;&nbsp;<a href='files/qiime_test/gg_12_10_otus/taxonomy/88_otu_taxonomy.txt' target='_blank'>88_otu_taxonomy.txt</a><br>\n&nbsp;&nbsp;<a href='files/qiime_test/gg_12_10_otus/taxonomy/91_otu_taxonomy.txt' target='_blank'>91_otu_taxonomy.txt</a><br>\nqiime_test/gg_12_10_otus/trees/<br>\n&nbsp;&nbsp;<a href='files/qiime_test/gg_12_10_otus/trees/88_otus.tree' target='_blank'>88_otus.tree</a><br>\n&nbsp;&nbsp;<a href='files/qiime_test/gg_12_10_otus/trees/82_otus.tree' target='_blank'>82_otus.tree</a><br>\n&nbsp;&nbsp;<a href='files/qiime_test/gg_12_10_otus/trees/73_otus.tree' target='_blank'>73_otus.tree</a><br>\n&nbsp;&nbsp;<a href='files/qiime_test/gg_12_10_otus/trees/76_otus.tree' target='_blank'>76_otus.tree</a><br>\n&nbsp;&nbsp;<a href='files/qiime_test/gg_12_10_otus/trees/67_otus.tree' target='_blank'>67_otus.tree</a><br>\n&nbsp;&nbsp;<a href='files/qiime_test/gg_12_10_otus/trees/97_otus.tree' target='_blank'>97_otus.tree</a><br>\n&nbsp;&nbsp;<a href='files/qiime_test/gg_12_10_otus/trees/79_otus.tree' target='_blank'>79_otus.tree</a><br>\n&nbsp;&nbsp;<a href='files/qiime_test/gg_12_10_otus/trees/70_otus.tree' target='_blank'>70_otus.tree</a><br>\n&nbsp;&nbsp;<a href='files/qiime_test/gg_12_10_otus/trees/85_otus.tree' target='_blank'>85_otus.tree</a><br>\n&nbsp;&nbsp;<a href='files/qiime_test/gg_12_10_otus/trees/94_otus.tree' target='_blank'>94_otus.tree</a><br>\n&nbsp;&nbsp;<a href='files/qiime_test/gg_12_10_otus/trees/61_otus.tree' target='_blank'>61_otus.tree</a><br>\n&nbsp;&nbsp;<a href='files/qiime_test/gg_12_10_otus/trees/99_otus.tree' target='_blank'>99_otus.tree</a><br>\n&nbsp;&nbsp;<a href='files/qiime_test/gg_12_10_otus/trees/64_otus.tree' target='_blank'>64_otus.tree</a><br>\n&nbsp;&nbsp;<a href='files/qiime_test/gg_12_10_otus/trees/91_otus.tree' target='_blank'>91_otus.tree</a><br>\nqiime_test/moving_pictures_tutorial/<br>\n&nbsp;&nbsp;<a href='files/qiime_test/moving_pictures_tutorial/procrustes_sid_map.txt' target='_blank'>procrustes_sid_map.txt</a><br>\n&nbsp;&nbsp;<a href='files/qiime_test/moving_pictures_tutorial/filtered_mapping_l4.txt' target='_blank'>filtered_mapping_l4.txt</a><br>\n&nbsp;&nbsp;<a href='files/qiime_test/moving_pictures_tutorial/filtered_mapping_l5.txt' target='_blank'>filtered_mapping_l5.txt</a><br>\n&nbsp;&nbsp;<a href='files/qiime_test/moving_pictures_tutorial/filtered_mapping_l6.txt' target='_blank'>filtered_mapping_l6.txt</a><br>\n&nbsp;&nbsp;<a href='files/qiime_test/moving_pictures_tutorial/filtered_mapping_l2.txt' target='_blank'>filtered_mapping_l2.txt</a><br>\n&nbsp;&nbsp;<a href='files/qiime_test/moving_pictures_tutorial/454_map.txt' target='_blank'>454_map.txt</a><br>\n&nbsp;&nbsp;<a href='files/qiime_test/moving_pictures_tutorial/filtered_mapping_l3.txt' target='_blank'>filtered_mapping_l3.txt</a><br>\n&nbsp;&nbsp;<a href='files/qiime_test/moving_pictures_tutorial/ucrC_fast_params.txt' target='_blank'>ucrC_fast_params.txt</a><br>\n&nbsp;&nbsp;<a href='files/qiime_test/moving_pictures_tutorial/README.txt' target='_blank'>README.txt</a><br>\n&nbsp;&nbsp;<a href='files/qiime_test/moving_pictures_tutorial/filtered_mapping_l1.txt' target='_blank'>filtered_mapping_l1.txt</a><br>\n&nbsp;&nbsp;<a href='files/qiime_test/moving_pictures_tutorial/subsampled_454_seqs.fna' target='_blank'>subsampled_454_seqs.fna</a><br>\n&nbsp;&nbsp;<a href='files/qiime_test/moving_pictures_tutorial/procrustes_metadata_map.txt' target='_blank'>procrustes_metadata_map.txt</a><br>\nqiime_test/moving_pictures_tutorial/subsampled_fastq/<br>\n&nbsp;&nbsp;<a href='files/qiime_test/moving_pictures_tutorial/subsampled_fastq/subsampled_s_6_sequence_barcodes.fastq' target='_blank'>subsampled_s_6_sequence_barcodes.fastq</a><br>\n&nbsp;&nbsp;<a href='files/qiime_test/moving_pictures_tutorial/subsampled_fastq/subsampled_s_2_sequence_barcodes.fastq' target='_blank'>subsampled_s_2_sequence_barcodes.fastq</a><br>\n&nbsp;&nbsp;<a href='files/qiime_test/moving_pictures_tutorial/subsampled_fastq/subsampled_s_3_sequence.fastq' target='_blank'>subsampled_s_3_sequence.fastq</a><br>\n&nbsp;&nbsp;<a href='files/qiime_test/moving_pictures_tutorial/subsampled_fastq/subsampled_s_4_sequence.fastq' target='_blank'>subsampled_s_4_sequence.fastq</a><br>\n&nbsp;&nbsp;<a href='files/qiime_test/moving_pictures_tutorial/subsampled_fastq/subsampled_s_1_sequence_barcodes.fastq' target='_blank'>subsampled_s_1_sequence_barcodes.fastq</a><br>\n&nbsp;&nbsp;<a href='files/qiime_test/moving_pictures_tutorial/subsampled_fastq/subsampled_s_6_sequence.fastq' target='_blank'>subsampled_s_6_sequence.fastq</a><br>\n&nbsp;&nbsp;<a href='files/qiime_test/moving_pictures_tutorial/subsampled_fastq/subsampled_s_5_sequence.fastq' target='_blank'>subsampled_s_5_sequence.fastq</a><br>\n&nbsp;&nbsp;<a href='files/qiime_test/moving_pictures_tutorial/subsampled_fastq/subsampled_s_4_sequence_barcodes.fastq' target='_blank'>subsampled_s_4_sequence_barcodes.fastq</a><br>\n&nbsp;&nbsp;<a href='files/qiime_test/moving_pictures_tutorial/subsampled_fastq/subsampled_s_2_sequence.fastq' target='_blank'>subsampled_s_2_sequence.fastq</a><br>\n&nbsp;&nbsp;<a href='files/qiime_test/moving_pictures_tutorial/subsampled_fastq/subsampled_s_1_sequence.fastq' target='_blank'>subsampled_s_1_sequence.fastq</a><br>\n&nbsp;&nbsp;<a href='files/qiime_test/moving_pictures_tutorial/subsampled_fastq/subsampled_s_3_sequence_barcodes.fastq' target='_blank'>subsampled_s_3_sequence_barcodes.fastq</a><br>\n&nbsp;&nbsp;<a href='files/qiime_test/moving_pictures_tutorial/subsampled_fastq/subsampled_s_5_sequence_barcodes.fastq' target='_blank'>subsampled_s_5_sequence_barcodes.fastq</a><br>",
       "output_type": "pyout",
       "prompt_number": 6,
       "text": "qiime_test/\n  lanemask_in_1s_and_0s\n  core_set_aligned.fasta.imputed\nqiime_test/gg_12_10_otus/\n  note\nqiime_test/gg_12_10_otus/otus/\n  88_otu_map.txt\n  97_clusters.uc\n  85_clusters.uc\n  67_clusters.uc\n  82_otu_map.txt\n  91_otu_map.txt\n  97_otu_map.txt\n  64_otu_map.txt\n  99_clusters.uc\n  73_clusters.uc\n  79_clusters.uc\n  88_clusters.uc\n  61_otu_map.txt\n  76_clusters.uc\n  73_otu_map.txt\n  94_clusters.uc\n  82_clusters.uc\n  70_clusters.uc\n  70_otu_map.txt\n  67_otu_map.txt\n  64_clusters.uc\n  61_clusters.uc\n  76_otu_map.txt\n  79_otu_map.txt\n  85_otu_map.txt\n  99_otu_map.txt\n  91_clusters.uc\n  94_otu_map.txt\nqiime_test/gg_12_10_otus/rep_set/\n  91_otus.fasta\n  64_otus.fasta\n  79_otus.fasta\n  76_otus.fasta\n  97_otus.fasta\n  94_otus.fasta\n  73_otus.fasta\n  82_otus.fasta\n  85_otus.fasta\n  67_otus.fasta\n  61_otus.fasta\n  99_otus.fasta\n  88_otus.fasta\n  70_otus.fasta\nqiime_test/gg_12_10_otus/taxonomy/\n  73_otu_taxonomy.txt\n  97_otu_taxonomy.txt\n  70_otu_taxonomy.txt\n  85_otu_taxonomy.txt\n  76_otu_taxonomy.txt\n  67_otu_taxonomy.txt\n  94_otu_taxonomy.txt\n  64_otu_taxonomy.txt\n  99_otu_taxonomy.txt\n  82_otu_taxonomy.txt\n  79_otu_taxonomy.txt\n  61_otu_taxonomy.txt\n  88_otu_taxonomy.txt\n  91_otu_taxonomy.txt\nqiime_test/gg_12_10_otus/trees/\n  88_otus.tree\n  82_otus.tree\n  73_otus.tree\n  76_otus.tree\n  67_otus.tree\n  97_otus.tree\n  79_otus.tree\n  70_otus.tree\n  85_otus.tree\n  94_otus.tree\n  61_otus.tree\n  99_otus.tree\n  64_otus.tree\n  91_otus.tree\nqiime_test/moving_pictures_tutorial/\n  procrustes_sid_map.txt\n  filtered_mapping_l4.txt\n  filtered_mapping_l5.txt\n  filtered_mapping_l6.txt\n  filtered_mapping_l2.txt\n  454_map.txt\n  filtered_mapping_l3.txt\n  ucrC_fast_params.txt\n  README.txt\n  filtered_mapping_l1.txt\n  subsampled_454_seqs.fna\n  procrustes_metadata_map.txt\nqiime_test/moving_pictures_tutorial/subsampled_fastq/\n  subsampled_s_6_sequence_barcodes.fastq\n  subsampled_s_2_sequence_barcodes.fastq\n  subsampled_s_3_sequence.fastq\n  subsampled_s_4_sequence.fastq\n  subsampled_s_1_sequence_barcodes.fastq\n  subsampled_s_6_sequence.fastq\n  subsampled_s_5_sequence.fastq\n  subsampled_s_4_sequence_barcodes.fastq\n  subsampled_s_2_sequence.fastq\n  subsampled_s_1_sequence.fastq\n  subsampled_s_3_sequence_barcodes.fastq\n  subsampled_s_5_sequence_barcodes.fastq"
      }
     ],
     "prompt_number": 6
    },
    {
     "cell_type": "heading",
     "level": 2,
     "metadata": {},
     "source": "First, let's check our mapping file for errors"
    },
    {
     "cell_type": "code",
     "collapsed": false,
     "input": "!check_id_map.py -o $base_dir/cid/ -m $data_dir/filtered_mapping_l1.txt",
     "language": "python",
     "metadata": {},
     "outputs": [
      {
       "output_type": "stream",
       "stream": "stdout",
       "text": "No errors or warnings were found in mapping file.\r\n"
      }
     ],
     "prompt_number": 7
    },
    {
     "cell_type": "markdown",
     "metadata": {},
     "source": "In this case there were no errors, but if there were we would review the resulting html summary to find out what errors are present. You could then fix those in a spreadsheet program or text editor. To view that html file, call ``FileLinks`` on the output directory from the previous step and click the link to the ``html`` file."
    },
    {
     "cell_type": "code",
     "collapsed": false,
     "input": "FileLinks(base_dir+'/cid/')",
     "language": "python",
     "metadata": {},
     "outputs": [
      {
       "html": "qiime_test/cid/<br>\n&nbsp;&nbsp;<a href='files/qiime_test/cid/overlib.js' target='_blank'>overlib.js</a><br>\n&nbsp;&nbsp;<a href='files/qiime_test/cid/filtered_mapping_l1.log' target='_blank'>filtered_mapping_l1.log</a><br>\n&nbsp;&nbsp;<a href='files/qiime_test/cid/filtered_mapping_l1.html' target='_blank'>filtered_mapping_l1.html</a><br>\n&nbsp;&nbsp;<a href='files/qiime_test/cid/filtered_mapping_l1_corrected.txt' target='_blank'>filtered_mapping_l1_corrected.txt</a><br>",
       "output_type": "pyout",
       "prompt_number": 8,
       "text": "qiime_test/cid/\n  overlib.js\n  filtered_mapping_l1.log\n  filtered_mapping_l1.html\n  filtered_mapping_l1_corrected.txt"
      }
     ],
     "prompt_number": 8
    },
    {
     "cell_type": "heading",
     "level": 2,
     "metadata": {},
     "source": "Demultiplexing and quality filtering seqeunces"
    },
    {
     "cell_type": "code",
     "collapsed": false,
     "input": "!split_libraries_fastq.py -o $base_dir/slout/ -i $data_dir/subsampled_fastq/subsampled_s_1_sequence.fastq,$data_dir/subsampled_fastq/subsampled_s_2_sequence.fastq,$data_dir/subsampled_fastq/subsampled_s_3_sequence.fastq,$data_dir/subsampled_fastq/subsampled_s_4_sequence.fastq,$data_dir/subsampled_fastq/subsampled_s_5_sequence.fastq,$data_dir/subsampled_fastq/subsampled_s_6_sequence.fastq -b $data_dir/subsampled_fastq/subsampled_s_1_sequence_barcodes.fastq,$data_dir/subsampled_fastq/subsampled_s_2_sequence_barcodes.fastq,$data_dir/subsampled_fastq/subsampled_s_3_sequence_barcodes.fastq,$data_dir/subsampled_fastq/subsampled_s_4_sequence_barcodes.fastq,$data_dir/subsampled_fastq/subsampled_s_5_sequence_barcodes.fastq,$data_dir/subsampled_fastq/subsampled_s_6_sequence_barcodes.fastq -m $data_dir/filtered_mapping_l1.txt,$data_dir/filtered_mapping_l2.txt,$data_dir/filtered_mapping_l3.txt,$data_dir/filtered_mapping_l4.txt,$data_dir/filtered_mapping_l5.txt,$data_dir/filtered_mapping_l6.txt",
     "language": "python",
     "metadata": {},
     "outputs": [],
     "prompt_number": 9
    },
    {
     "cell_type": "markdown",
     "metadata": {},
     "source": "We often want to see the results of running a command. Here we can do that by calling our output formatter again, this time passing the output directory from the previous step."
    },
    {
     "cell_type": "code",
     "collapsed": false,
     "input": "FileLinks(base_dir+'/slout/')",
     "language": "python",
     "metadata": {},
     "outputs": [
      {
       "html": "qiime_test/slout/<br>\n&nbsp;&nbsp;<a href='files/qiime_test/slout/split_library_log.txt' target='_blank'>split_library_log.txt</a><br>\n&nbsp;&nbsp;<a href='files/qiime_test/slout/seqs.fna' target='_blank'>seqs.fna</a><br>\n&nbsp;&nbsp;<a href='files/qiime_test/slout/histograms.txt' target='_blank'>histograms.txt</a><br>",
       "output_type": "pyout",
       "prompt_number": 10,
       "text": "qiime_test/slout/\n  split_library_log.txt\n  seqs.fna\n  histograms.txt"
      }
     ],
     "prompt_number": 10
    },
    {
     "cell_type": "code",
     "collapsed": false,
     "input": "!count_seqs.py -i $base_dir/slout/seqs.fna",
     "language": "python",
     "metadata": {},
     "outputs": [
      {
       "output_type": "stream",
       "stream": "stdout",
       "text": "\r\n66189  : qiime_test/slout/seqs.fna (Sequence lengths (mean +/- std): 132.1182 +/- 9.6185)\r\n66189  : Total\r\n"
      }
     ],
     "prompt_number": 11
    },
    {
     "cell_type": "heading",
     "level": 2,
     "metadata": {},
     "source": "OTU picking: using an open-reference OTU picking protocol by searching reads agsint the Greengenes database."
    },
    {
     "cell_type": "code",
     "collapsed": false,
     "input": "!pick_subsampled_reference_otus_through_otu_table.py -o $base_dir/ucrss_fast/ -i $base_dir/slout/seqs.fna -r $reference_seqs -p $data_dir/ucrC_fast_params.txt",
     "language": "python",
     "metadata": {},
     "outputs": [],
     "prompt_number": 12
    },
    {
     "cell_type": "code",
     "collapsed": false,
     "input": "FileLinks(base_dir+'/ucrss_fast/')",
     "language": "python",
     "metadata": {},
     "outputs": [
      {
       "html": "qiime_test/ucrss_fast/<br>\n&nbsp;&nbsp;<a href='files/qiime_test/ucrss_fast/otu_table_mc2_w_tax.biom' target='_blank'>otu_table_mc2_w_tax.biom</a><br>\n&nbsp;&nbsp;<a href='files/qiime_test/ucrss_fast/otu_table_mc2.biom' target='_blank'>otu_table_mc2.biom</a><br>\n&nbsp;&nbsp;<a href='files/qiime_test/ucrss_fast/log_20130408192934.txt' target='_blank'>log_20130408192934.txt</a><br>\n&nbsp;&nbsp;<a href='files/qiime_test/ucrss_fast/final_otu_map.txt' target='_blank'>final_otu_map.txt</a><br>\n&nbsp;&nbsp;<a href='files/qiime_test/ucrss_fast/otu_table_mc2_w_tax_no_pynast_failures.biom' target='_blank'>otu_table_mc2_w_tax_no_pynast_failures.biom</a><br>\n&nbsp;&nbsp;<a href='files/qiime_test/ucrss_fast/new_refseqs.fna' target='_blank'>new_refseqs.fna</a><br>\n&nbsp;&nbsp;<a href='files/qiime_test/ucrss_fast/final_otu_map_mc2.txt' target='_blank'>final_otu_map_mc2.txt</a><br>\n&nbsp;&nbsp;<a href='files/qiime_test/ucrss_fast/rep_set.fna' target='_blank'>rep_set.fna</a><br>\n&nbsp;&nbsp;<a href='files/qiime_test/ucrss_fast/rep_set.tre' target='_blank'>rep_set.tre</a><br>\nqiime_test/ucrss_fast/prefilter_otus/<br>\n&nbsp;&nbsp;<a href='files/qiime_test/ucrss_fast/prefilter_otus/seqs_failures.txt' target='_blank'>seqs_failures.txt</a><br>\n&nbsp;&nbsp;<a href='files/qiime_test/ucrss_fast/prefilter_otus/seqs_otus.log' target='_blank'>seqs_otus.log</a><br>\n&nbsp;&nbsp;<a href='files/qiime_test/ucrss_fast/prefilter_otus/prefiltered_seqs.fna' target='_blank'>prefiltered_seqs.fna</a><br>\n&nbsp;&nbsp;<a href='files/qiime_test/ucrss_fast/prefilter_otus/seqs_otus.txt' target='_blank'>seqs_otus.txt</a><br>\n&nbsp;&nbsp;<a href='files/qiime_test/ucrss_fast/prefilter_otus/seqs_clusters.uc' target='_blank'>seqs_clusters.uc</a><br>\nqiime_test/ucrss_fast/pynast_aligned_seqs/<br>\n&nbsp;&nbsp;<a href='files/qiime_test/ucrss_fast/pynast_aligned_seqs/rep_set_aligned.fasta' target='_blank'>rep_set_aligned.fasta</a><br>\n&nbsp;&nbsp;<a href='files/qiime_test/ucrss_fast/pynast_aligned_seqs/rep_set_log.txt' target='_blank'>rep_set_log.txt</a><br>\n&nbsp;&nbsp;<a href='files/qiime_test/ucrss_fast/pynast_aligned_seqs/rep_set_aligned_pfiltered.fasta' target='_blank'>rep_set_aligned_pfiltered.fasta</a><br>\n&nbsp;&nbsp;<a href='files/qiime_test/ucrss_fast/pynast_aligned_seqs/rep_set_failures.fasta' target='_blank'>rep_set_failures.fasta</a><br>\nqiime_test/ucrss_fast/rdp_assigned_taxonomy/<br>\n&nbsp;&nbsp;<a href='files/qiime_test/ucrss_fast/rdp_assigned_taxonomy/rep_set_tax_assignments.txt' target='_blank'>rep_set_tax_assignments.txt</a><br>\n&nbsp;&nbsp;<a href='files/qiime_test/ucrss_fast/rdp_assigned_taxonomy/rep_set_tax_assignments.log' target='_blank'>rep_set_tax_assignments.log</a><br>\nqiime_test/ucrss_fast/step1_otus/<br>\n&nbsp;&nbsp;<a href='files/qiime_test/ucrss_fast/step1_otus/prefiltered_seqs_clusters.uc' target='_blank'>prefiltered_seqs_clusters.uc</a><br>\n&nbsp;&nbsp;<a href='files/qiime_test/ucrss_fast/step1_otus/prefiltered_seqs_otus.log' target='_blank'>prefiltered_seqs_otus.log</a><br>\n&nbsp;&nbsp;<a href='files/qiime_test/ucrss_fast/step1_otus/prefiltered_seqs_failures.txt' target='_blank'>prefiltered_seqs_failures.txt</a><br>\n&nbsp;&nbsp;<a href='files/qiime_test/ucrss_fast/step1_otus/failures.fasta' target='_blank'>failures.fasta</a><br>\n&nbsp;&nbsp;<a href='files/qiime_test/ucrss_fast/step1_otus/subsampled_failures.fasta' target='_blank'>subsampled_failures.fasta</a><br>\n&nbsp;&nbsp;<a href='files/qiime_test/ucrss_fast/step1_otus/step1_rep_set.fna' target='_blank'>step1_rep_set.fna</a><br>\n&nbsp;&nbsp;<a href='files/qiime_test/ucrss_fast/step1_otus/prefiltered_seqs_otus.txt' target='_blank'>prefiltered_seqs_otus.txt</a><br>\nqiime_test/ucrss_fast/step2_otus/<br>\n&nbsp;&nbsp;<a href='files/qiime_test/ucrss_fast/step2_otus/subsampled_failures_otus.txt' target='_blank'>subsampled_failures_otus.txt</a><br>\n&nbsp;&nbsp;<a href='files/qiime_test/ucrss_fast/step2_otus/subsampled_failures_clusters.uc' target='_blank'>subsampled_failures_clusters.uc</a><br>\n&nbsp;&nbsp;<a href='files/qiime_test/ucrss_fast/step2_otus/subsampled_failures_otus.log' target='_blank'>subsampled_failures_otus.log</a><br>\n&nbsp;&nbsp;<a href='files/qiime_test/ucrss_fast/step2_otus/step2_rep_set.fna' target='_blank'>step2_rep_set.fna</a><br>\nqiime_test/ucrss_fast/step3_otus/<br>\n&nbsp;&nbsp;<a href='files/qiime_test/ucrss_fast/step3_otus/failures_failures.txt' target='_blank'>failures_failures.txt</a><br>\n&nbsp;&nbsp;<a href='files/qiime_test/ucrss_fast/step3_otus/failures_clusters.uc' target='_blank'>failures_clusters.uc</a><br>\n&nbsp;&nbsp;<a href='files/qiime_test/ucrss_fast/step3_otus/failures_otus.log' target='_blank'>failures_otus.log</a><br>\n&nbsp;&nbsp;<a href='files/qiime_test/ucrss_fast/step3_otus/failures_otus.txt' target='_blank'>failures_otus.txt</a><br>\n&nbsp;&nbsp;<a href='files/qiime_test/ucrss_fast/step3_otus/failures_failures.fasta' target='_blank'>failures_failures.fasta</a><br>\nqiime_test/ucrss_fast/step4_otus/<br>\n&nbsp;&nbsp;<a href='files/qiime_test/ucrss_fast/step4_otus/failures_failures_clusters.uc' target='_blank'>failures_failures_clusters.uc</a><br>\n&nbsp;&nbsp;<a href='files/qiime_test/ucrss_fast/step4_otus/step4_rep_set.fna' target='_blank'>step4_rep_set.fna</a><br>\n&nbsp;&nbsp;<a href='files/qiime_test/ucrss_fast/step4_otus/failures_failures_otus.log' target='_blank'>failures_failures_otus.log</a><br>\n&nbsp;&nbsp;<a href='files/qiime_test/ucrss_fast/step4_otus/failures_failures_otus.txt' target='_blank'>failures_failures_otus.txt</a><br>",
       "output_type": "pyout",
       "prompt_number": 13,
       "text": "qiime_test/ucrss_fast/\n  otu_table_mc2_w_tax.biom\n  otu_table_mc2.biom\n  log_20130408192934.txt\n  final_otu_map.txt\n  otu_table_mc2_w_tax_no_pynast_failures.biom\n  new_refseqs.fna\n  final_otu_map_mc2.txt\n  rep_set.fna\n  rep_set.tre\nqiime_test/ucrss_fast/prefilter_otus/\n  seqs_failures.txt\n  seqs_otus.log\n  prefiltered_seqs.fna\n  seqs_otus.txt\n  seqs_clusters.uc\nqiime_test/ucrss_fast/pynast_aligned_seqs/\n  rep_set_aligned.fasta\n  rep_set_log.txt\n  rep_set_aligned_pfiltered.fasta\n  rep_set_failures.fasta\nqiime_test/ucrss_fast/rdp_assigned_taxonomy/\n  rep_set_tax_assignments.txt\n  rep_set_tax_assignments.log\nqiime_test/ucrss_fast/step1_otus/\n  prefiltered_seqs_clusters.uc\n  prefiltered_seqs_otus.log\n  prefiltered_seqs_failures.txt\n  failures.fasta\n  subsampled_failures.fasta\n  step1_rep_set.fna\n  prefiltered_seqs_otus.txt\nqiime_test/ucrss_fast/step2_otus/\n  subsampled_failures_otus.txt\n  subsampled_failures_clusters.uc\n  subsampled_failures_otus.log\n  step2_rep_set.fna\nqiime_test/ucrss_fast/step3_otus/\n  failures_failures.txt\n  failures_clusters.uc\n  failures_otus.log\n  failures_otus.txt\n  failures_failures.fasta\nqiime_test/ucrss_fast/step4_otus/\n  failures_failures_clusters.uc\n  step4_rep_set.fna\n  failures_failures_otus.log\n  failures_failures_otus.txt"
      }
     ],
     "prompt_number": 13
    },
    {
     "cell_type": "code",
     "collapsed": false,
     "input": "!print_biom_table_summary.py -i $base_dir/ucrss_fast/otu_table_mc2_w_tax_no_pynast_failures.biom",
     "language": "python",
     "metadata": {},
     "outputs": [
      {
       "output_type": "stream",
       "stream": "stdout",
       "text": "Num samples: 61\r\nNum observations: 1845\r\nTotal count: 63399.0\r\nTable density (fraction of non-zero values): 0.0860\r\nTable md5 (unzipped): f8acb7249e8f337081d5d77ab4d61cc8\r\n\r\nCounts/sample summary:\r\n Min: 122.0\r\n Max: 2560.0\r\n Median: 891.0\r\n Mean: 1039.32786885\r\n Std. dev.: 758.897511846\r\n Sample Metadata Categories: None provided\r\n Observation Metadata Categories: taxonomy\r\n\r\nCounts/sample detail:\r\n L3S237: 122.0\r\n L3S235: 173.0\r\n L3S372: 186.0\r\n L3S373: 227.0\r\n L3S368: 238.0\r\n L3S370: 242.0\r\n L3S367: 243.0\r\n L3S236: 257.0\r\n L3S369: 260.0\r\n L3S238: 271.0\r\n L3S9: 271.0\r\n L3S8: 275.0\r\n L3S6: 279.0\r\n L3S371: 283.0\r\n L3S7: 301.0\r\n L5S234: 365.0\r\n L5S231: 381.0\r\n L5S235: 414.0\r\n L5S99: 426.0\r\n L5S98: 433.0\r\n L5S230: 442.0\r\n L5S232: 457.0\r\n L5S233: 459.0\r\n L5S229: 505.0\r\n L5S97: 512.0\r\n L5S100: 522.0\r\n L2S236: 584.0\r\n L2S234: 721.0\r\n L2S231: 769.0\r\n L2S229: 844.0\r\n L2S233: 891.0\r\n L2S99: 899.0\r\n L2S230: 935.0\r\n L2S232: 957.0\r\n L2S100: 1029.0\r\n L2S97: 1050.0\r\n L2S235: 1059.0\r\n L1S4: 1079.0\r\n L2S98: 1097.0\r\n L1S3: 1206.0\r\n L1S1: 1312.0\r\n L1S131: 1556.0\r\n L1S134: 1574.0\r\n L1S132: 1699.0\r\n L4S146: 1748.0\r\n L1S129: 1753.0\r\n L1S130: 1766.0\r\n L1S135: 1766.0\r\n L1S133: 1891.0\r\n L1S2: 1899.0\r\n L6S100: 1994.0\r\n L6S101: 2040.0\r\n L1S136: 2061.0\r\n L4S144: 2127.0\r\n L4S145: 2147.0\r\n L6S102: 2206.0\r\n L1S287: 2316.0\r\n L6S103: 2367.0\r\n L4S147: 2441.0\r\n L1S290: 2512.0\r\n L1S289: 2560.0\r\n"
      }
     ],
     "prompt_number": 14
    },
    {
     "cell_type": "heading",
     "level": 2,
     "metadata": {},
     "source": "Create a single mapping file from the per-lane mapping files."
    },
    {
     "cell_type": "code",
     "collapsed": false,
     "input": "!merge_mapping_files.py -o $base_dir/combined_mapping_file.txt -m $data_dir/filtered_mapping_l1.txt,$data_dir/filtered_mapping_l2.txt,$data_dir/filtered_mapping_l3.txt,$data_dir/filtered_mapping_l4.txt,$data_dir/filtered_mapping_l5.txt,$data_dir/filtered_mapping_l6.txt",
     "language": "python",
     "metadata": {},
     "outputs": [],
     "prompt_number": 15
    },
    {
     "cell_type": "code",
     "collapsed": false,
     "input": "!head $base_dir/combined_mapping_file.txt",
     "language": "python",
     "metadata": {},
     "outputs": [
      {
       "output_type": "stream",
       "stream": "stdout",
       "text": "#SampleID\tBarcodeSequence\tLinkerPrimerSequence\tdays_since_epoch\tSamplePlate\ttimestamp\tSampleType\tmonth\tPrimerPlate\tWellID\tyear\tday\tsubject\tDescription\r\nL6S100\tGTCGCTGTCTTC\tGTGCCAGCMGCCGCGGTAA\t14355\t20\t20090421\tTongue\t4\t5\td1\t2009\t21\t2\tRK_Tong_4_21_2009\r\nL2S229\tCAACTCATCGTA\tGTGCCAGCMGCCGCGGTAA\t14355\t7\t20090421\tL_palm\t4\t2\te5\t2009\t21\t1\tAB_L_Palm_4_21_2009\r\nL6S102\tGTTGACGACAGC\tGTGCCAGCMGCCGCGGTAA\t14357\t20\t20090423\tTongue\t4\t5\tf1\t2009\t23\t2\tRK_Tong_4_23_2009\r\nL6S103\tTACGCGCTGAGA\tGTGCCAGCMGCCGCGGTAA\t14358\t20\t20090424\tTongue\t4\t5\tg1\t2009\t24\t2\tRK_Tong_4_24_2009\r\nL3S369\tATACAGAGCTCC\tGTGCCAGCMGCCGCGGTAA\t14357\t12\t20090423\tR_palm\t4\t2\ta11\t2009\t23\t1\tAB_R_Palm_4_23_2009\r\nL3S368\tCATCTGTAGCGA\tGTGCCAGCMGCCGCGGTAA\t14356\t12\t20090422\tR_palm\t4\t2\th10\t2009\t22\t1\tAB_R_Palm_4_22_2009\r\nL2S100\tACGCTCATGGAT\tGTGCCAGCMGCCGCGGTAA\t14176\t6\t20081024\tL_palm\t10\t1\td1\t2008\t24\t1\tAB_L_Palm_10_24_2008\r\nL3S373\tCACATCTAACAC\tGTGCCAGCMGCCGCGGTAA\t14175\t12\t20081023\tR_palm\t10\t2\te11\t2008\t23\t2\tRK_R_Palm_10_23_2008\r\nL3S370\tATCCTCAGTAGT\tGTGCCAGCMGCCGCGGTAA\t14358\t12\t20090424\tR_palm\t4\t2\tb11\t2009\t24\t1\tAB_R_Palm_4_24_2009\r\n"
      }
     ],
     "prompt_number": 16
    },
    {
     "cell_type": "markdown",
     "metadata": {},
     "source": "To view a single file (rather than a directory) we use the ``FileLink`` function instead of the ``FileLinks`` function."
    },
    {
     "cell_type": "code",
     "collapsed": false,
     "input": "FileLink(base_dir+'/combined_mapping_file.txt')",
     "language": "python",
     "metadata": {},
     "outputs": [
      {
       "html": "<a href='files/qiime_test/combined_mapping_file.txt' target='_blank'>qiime_test/combined_mapping_file.txt</a><br>",
       "output_type": "pyout",
       "prompt_number": 17,
       "text": "/mnt/notebook/qiime_test/combined_mapping_file.txt"
      }
     ],
     "prompt_number": 17
    },
    {
     "cell_type": "heading",
     "level": 2,
     "metadata": {},
     "source": "Run diversity analyses"
    },
    {
     "cell_type": "markdown",
     "metadata": {},
     "source": "Here we're running the ``core_diversity_analyses.py`` script which applies many of the \"first-pass\" diversity analyses that users are generally interested in. The main output that users will interact with is the ``index.html`` file, which provides links into the different analysis results."
    },
    {
     "cell_type": "code",
     "collapsed": false,
     "input": "!core_diversity_analyses.py -o $base_dir/cd258/ -i $base_dir/ucrss_fast/otu_table_mc2_w_tax_no_pynast_failures.biom -m $base_dir/combined_mapping_file.txt -t $base_dir/ucrss_fast/rep_set.tre -e 258 -c \"SampleType,days_since_epoch\"",
     "language": "python",
     "metadata": {},
     "outputs": [
      {
       "output_type": "stream",
       "stream": "stdout",
       "text": "This code was only tested with Matplotlib-1.1.0\r\n\r\n"
      },
      {
       "output_type": "stream",
       "stream": "stdout",
       "text": "This code was only tested with Matplotlib-1.1.0\r\n\r\n"
      },
      {
       "output_type": "stream",
       "stream": "stdout",
       "text": "This code was only tested with Matplotlib-1.1.0\r\n\r\n"
      },
      {
       "output_type": "stream",
       "stream": "stdout",
       "text": "This code was only tested with Matplotlib-1.1.0\r\n\r\n"
      },
      {
       "output_type": "stream",
       "stream": "stdout",
       "text": "This code was only tested with Matplotlib-1.1.0\r\n\r\n"
      },
      {
       "output_type": "stream",
       "stream": "stdout",
       "text": "This code was only tested with Matplotlib-1.1.0\r\n\r\n"
      },
      {
       "output_type": "stream",
       "stream": "stdout",
       "text": "This code was only tested with Matplotlib-1.1.0\r\n\r\n"
      },
      {
       "output_type": "stream",
       "stream": "stdout",
       "text": "Warning, the following samples were in the category mapping file but not the OTU table and will be ignored: \r\nL3S368\r\n\r\nL3S373\r\n\r\nL3S370\r\n\r\nL3S367\r\n\r\nL3S372\r\n\r\nL3S237\r\n\r\nL3S236\r\n\r\nL3S235\r\n\r\n\r\n"
      },
      {
       "output_type": "stream",
       "stream": "stdout",
       "text": "Warning, the following samples were in the category mapping file but not the OTU table and will be ignored: \r\nL3S368\r\n\r\nL3S373\r\n\r\nL3S370\r\n\r\nL3S367\r\n\r\nL3S372\r\n\r\nL3S237\r\n\r\nL3S236\r\n\r\nL3S235\r\n\r\n\r\n"
      }
     ],
     "prompt_number": 18
    },
    {
     "cell_type": "code",
     "collapsed": false,
     "input": "FileLink(base_dir+'/cd258/index.html')",
     "language": "python",
     "metadata": {},
     "outputs": [
      {
       "html": "<a href='files/qiime_test/cd258/index.html' target='_blank'>qiime_test/cd258/index.html</a><br>",
       "output_type": "pyout",
       "prompt_number": 19,
       "text": "/mnt/notebook/qiime_test/cd258/index.html"
      }
     ],
     "prompt_number": 19
    },
    {
     "cell_type": "code",
     "collapsed": false,
     "input": "",
     "language": "python",
     "metadata": {},
     "outputs": [],
     "prompt_number": 19
    }
   ],
   "metadata": {}
  }
 ]
}